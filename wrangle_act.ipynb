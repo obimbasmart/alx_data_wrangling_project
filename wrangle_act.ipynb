{
 "cells": [
  {
   "cell_type": "markdown",
   "id": "511cd3ca-9c7d-46db-87fe-f53c9596940d",
   "metadata": {},
   "source": [
    "# Data Wrangling and Analysis on twitter data"
   ]
  },
  {
   "cell_type": "markdown",
   "id": "bcc56d65-31dd-405e-a51d-c25c21dce954",
   "metadata": {},
   "source": [
    "The aim of this project is to gather, access and clean data, to create reliable analysis. The data for this project is the tweet archive of  `@dog_rates`, also known as `WeRateDogs`. WeRateDogs is a Twitter account that rates people's dogs with a humorous comment about the dog.\n",
    "\n",
    "The initial WeRateDogs twitter archive doesn't contain all the required information/variables for this project. Such variables include `number of retweet`, `number of likes`. This variables are very important for this analysis, hence I'll be using the Twitter API to query this additional information\n",
    "\n",
    "Additionally, an `image_prediction.txt`  file has been provided. The content is the result from a neural network that can classify breeds of dogs.The file is full of image predictions (the top three only) alongside each tweet ID, image URL, and the image number that corresponded to the most confident prediction (numbered 1 to 4 since tweets can have up to four images). This file would be downloaded programmatically\n",
    "\n",
    "Therefore, the aim is to gather these and convert it into a high-quality data, reliable for analysis"
   ]
  },
  {
   "cell_type": "markdown",
   "id": "c02392ac-a10a-4730-9895-3e537d54291a",
   "metadata": {},
   "source": [
    "## Table of Contents\n",
    "- Gathering data\n",
    "- Accessing data\n",
    "- Cleaning data\n",
    "- Storing data\n",
    "- Analyzing data\n",
    "- Reporting"
   ]
  },
  {
   "cell_type": "code",
   "execution_count": 1,
   "id": "daacf72f-7b98-4e8f-825a-34cd06e42ae8",
   "metadata": {},
   "outputs": [],
   "source": [
    "#import libraries\n",
    "import pandas as pd\n",
    "import numpy as np\n",
    "import matplotlib.pyplot as plt\n",
    "import seaborn as sns\n",
    "import tweepy\n",
    "import requests\n",
    "import os\n",
    "import json\n",
    "import sys\n",
    "module_path = r'C:\\Users\\Smart\\Desktop\\my_custom_scripts'\n",
    "sys.path.insert(1, module_path)\n",
    "\n",
    "import warnings\n",
    "warnings.filterwarnings('ignore')\n",
    "\n",
    "import plot_script\n",
    "%matplotlib inline"
   ]
  },
  {
   "cell_type": "markdown",
   "id": "91d57fc3-8e3e-4f01-bcf2-887111c0dbae",
   "metadata": {},
   "source": [
    "## Gathering data"
   ]
  },
  {
   "cell_type": "markdown",
   "id": "bcec4ab2-93ce-46d0-ac8a-61f870a04f80",
   "metadata": {},
   "source": [
    "The project is based on three datasets\n",
    "- `twitter-archive.txt` : Which contains the WeRateDogs Twitter archive of basic tweet data for all 5000+ of their tweets, but not everything. This datasset is already provided\n",
    "\n",
    "- `image-prediction.txt` : The results: a table full of image predictions (the top three only) alongside each tweet ID, image URL, and the image number that corresponded to the most confident prediction (numbered 1 to 4 since tweets can have up to four images). This dataset would be downloaded programatically\n",
    "\n",
    "- `additional data from twitter API` : The tweepy library would be used to query additional information which wasn't included in the `twitter-archive.txt` file"
   ]
  },
  {
   "cell_type": "code",
   "execution_count": 2,
   "id": "e94697c4-37a8-413f-a06b-af7d07f362c5",
   "metadata": {},
   "outputs": [],
   "source": [
    "#read the weRateDog twitter achive into pandas dataframe\n",
    "we_rate_dogs_data = pd.read_csv('./data/twitter-archive-enhanced.csv')"
   ]
  },
  {
   "cell_type": "code",
   "execution_count": 3,
   "id": "50891a60-a7e3-4340-84ba-86f657e07048",
   "metadata": {},
   "outputs": [
    {
     "data": {
      "text/html": [
       "<div>\n",
       "<style scoped>\n",
       "    .dataframe tbody tr th:only-of-type {\n",
       "        vertical-align: middle;\n",
       "    }\n",
       "\n",
       "    .dataframe tbody tr th {\n",
       "        vertical-align: top;\n",
       "    }\n",
       "\n",
       "    .dataframe thead th {\n",
       "        text-align: right;\n",
       "    }\n",
       "</style>\n",
       "<table border=\"1\" class=\"dataframe\">\n",
       "  <thead>\n",
       "    <tr style=\"text-align: right;\">\n",
       "      <th></th>\n",
       "      <th>tweet_id</th>\n",
       "      <th>in_reply_to_status_id</th>\n",
       "      <th>in_reply_to_user_id</th>\n",
       "      <th>timestamp</th>\n",
       "      <th>source</th>\n",
       "      <th>text</th>\n",
       "      <th>retweeted_status_id</th>\n",
       "      <th>retweeted_status_user_id</th>\n",
       "      <th>retweeted_status_timestamp</th>\n",
       "      <th>expanded_urls</th>\n",
       "      <th>rating_numerator</th>\n",
       "      <th>rating_denominator</th>\n",
       "      <th>name</th>\n",
       "      <th>doggo</th>\n",
       "      <th>floofer</th>\n",
       "      <th>pupper</th>\n",
       "      <th>puppo</th>\n",
       "    </tr>\n",
       "  </thead>\n",
       "  <tbody>\n",
       "    <tr>\n",
       "      <th>0</th>\n",
       "      <td>892420643555336193</td>\n",
       "      <td>NaN</td>\n",
       "      <td>NaN</td>\n",
       "      <td>2017-08-01 16:23:56 +0000</td>\n",
       "      <td>&lt;a href=\"http://twitter.com/download/iphone\" r...</td>\n",
       "      <td>This is Phineas. He's a mystical boy. Only eve...</td>\n",
       "      <td>NaN</td>\n",
       "      <td>NaN</td>\n",
       "      <td>NaN</td>\n",
       "      <td>https://twitter.com/dog_rates/status/892420643...</td>\n",
       "      <td>13</td>\n",
       "      <td>10</td>\n",
       "      <td>Phineas</td>\n",
       "      <td>None</td>\n",
       "      <td>None</td>\n",
       "      <td>None</td>\n",
       "      <td>None</td>\n",
       "    </tr>\n",
       "    <tr>\n",
       "      <th>1</th>\n",
       "      <td>892177421306343426</td>\n",
       "      <td>NaN</td>\n",
       "      <td>NaN</td>\n",
       "      <td>2017-08-01 00:17:27 +0000</td>\n",
       "      <td>&lt;a href=\"http://twitter.com/download/iphone\" r...</td>\n",
       "      <td>This is Tilly. She's just checking pup on you....</td>\n",
       "      <td>NaN</td>\n",
       "      <td>NaN</td>\n",
       "      <td>NaN</td>\n",
       "      <td>https://twitter.com/dog_rates/status/892177421...</td>\n",
       "      <td>13</td>\n",
       "      <td>10</td>\n",
       "      <td>Tilly</td>\n",
       "      <td>None</td>\n",
       "      <td>None</td>\n",
       "      <td>None</td>\n",
       "      <td>None</td>\n",
       "    </tr>\n",
       "    <tr>\n",
       "      <th>2</th>\n",
       "      <td>891815181378084864</td>\n",
       "      <td>NaN</td>\n",
       "      <td>NaN</td>\n",
       "      <td>2017-07-31 00:18:03 +0000</td>\n",
       "      <td>&lt;a href=\"http://twitter.com/download/iphone\" r...</td>\n",
       "      <td>This is Archie. He is a rare Norwegian Pouncin...</td>\n",
       "      <td>NaN</td>\n",
       "      <td>NaN</td>\n",
       "      <td>NaN</td>\n",
       "      <td>https://twitter.com/dog_rates/status/891815181...</td>\n",
       "      <td>12</td>\n",
       "      <td>10</td>\n",
       "      <td>Archie</td>\n",
       "      <td>None</td>\n",
       "      <td>None</td>\n",
       "      <td>None</td>\n",
       "      <td>None</td>\n",
       "    </tr>\n",
       "  </tbody>\n",
       "</table>\n",
       "</div>"
      ],
      "text/plain": [
       "             tweet_id  in_reply_to_status_id  in_reply_to_user_id  \\\n",
       "0  892420643555336193                    NaN                  NaN   \n",
       "1  892177421306343426                    NaN                  NaN   \n",
       "2  891815181378084864                    NaN                  NaN   \n",
       "\n",
       "                   timestamp  \\\n",
       "0  2017-08-01 16:23:56 +0000   \n",
       "1  2017-08-01 00:17:27 +0000   \n",
       "2  2017-07-31 00:18:03 +0000   \n",
       "\n",
       "                                              source  \\\n",
       "0  <a href=\"http://twitter.com/download/iphone\" r...   \n",
       "1  <a href=\"http://twitter.com/download/iphone\" r...   \n",
       "2  <a href=\"http://twitter.com/download/iphone\" r...   \n",
       "\n",
       "                                                text  retweeted_status_id  \\\n",
       "0  This is Phineas. He's a mystical boy. Only eve...                  NaN   \n",
       "1  This is Tilly. She's just checking pup on you....                  NaN   \n",
       "2  This is Archie. He is a rare Norwegian Pouncin...                  NaN   \n",
       "\n",
       "   retweeted_status_user_id retweeted_status_timestamp  \\\n",
       "0                       NaN                        NaN   \n",
       "1                       NaN                        NaN   \n",
       "2                       NaN                        NaN   \n",
       "\n",
       "                                       expanded_urls  rating_numerator  \\\n",
       "0  https://twitter.com/dog_rates/status/892420643...                13   \n",
       "1  https://twitter.com/dog_rates/status/892177421...                13   \n",
       "2  https://twitter.com/dog_rates/status/891815181...                12   \n",
       "\n",
       "   rating_denominator     name doggo floofer pupper puppo  \n",
       "0                  10  Phineas  None    None   None  None  \n",
       "1                  10    Tilly  None    None   None  None  \n",
       "2                  10   Archie  None    None   None  None  "
      ]
     },
     "execution_count": 3,
     "metadata": {},
     "output_type": "execute_result"
    }
   ],
   "source": [
    "we_rate_dogs_data.head(3)"
   ]
  },
  {
   "cell_type": "code",
   "execution_count": 4,
   "id": "0d9d27ca-950e-4229-9366-0902101fe80b",
   "metadata": {},
   "outputs": [
    {
     "name": "stdout",
     "output_type": "stream",
     "text": [
      "Couldn't find program: 'perl'\n"
     ]
    }
   ],
   "source": [
    "%%perl -e0\n",
    "#download the tweet image prediction file\n",
    "path = 'https://d17h27t6h515a5.cloudfront.net/topher/2017/August/599fd2ad_image-predictions/image-predictions.tsv'\n",
    "root_folder = 'data'\n",
    "\n",
    "#make a get request \n",
    "response = requests.get(path)\n",
    "\n",
    "#create root folder if it doesn't exist\n",
    "if not os.path.exists(root_folder):\n",
    "    os.makedirs(root_folder)\n",
    "    \n",
    "#save the content of the response in the root folder\n",
    "with open(os.path.join(root_folder, path.split('/')[-1]), 'wb') as file:\n",
    "    file.write(response.content)"
   ]
  },
  {
   "cell_type": "code",
   "execution_count": 5,
   "id": "1b2b329a-9521-4a7b-9fe6-4baf7ed47c58",
   "metadata": {},
   "outputs": [],
   "source": [
    "#read the image_prediction data into pandas dataframe\n",
    "img_prediction = pd.read_csv('./data/image-predictions.tsv', sep='\\t')"
   ]
  },
  {
   "cell_type": "code",
   "execution_count": 6,
   "id": "314087eb-0b1b-4cb2-af5c-419c4d2d7171",
   "metadata": {
    "tags": []
   },
   "outputs": [
    {
     "data": {
      "text/html": [
       "<div>\n",
       "<style scoped>\n",
       "    .dataframe tbody tr th:only-of-type {\n",
       "        vertical-align: middle;\n",
       "    }\n",
       "\n",
       "    .dataframe tbody tr th {\n",
       "        vertical-align: top;\n",
       "    }\n",
       "\n",
       "    .dataframe thead th {\n",
       "        text-align: right;\n",
       "    }\n",
       "</style>\n",
       "<table border=\"1\" class=\"dataframe\">\n",
       "  <thead>\n",
       "    <tr style=\"text-align: right;\">\n",
       "      <th></th>\n",
       "      <th>tweet_id</th>\n",
       "      <th>jpg_url</th>\n",
       "      <th>img_num</th>\n",
       "      <th>p1</th>\n",
       "      <th>p1_conf</th>\n",
       "      <th>p1_dog</th>\n",
       "      <th>p2</th>\n",
       "      <th>p2_conf</th>\n",
       "      <th>p2_dog</th>\n",
       "      <th>p3</th>\n",
       "      <th>p3_conf</th>\n",
       "      <th>p3_dog</th>\n",
       "    </tr>\n",
       "  </thead>\n",
       "  <tbody>\n",
       "    <tr>\n",
       "      <th>0</th>\n",
       "      <td>666020888022790149</td>\n",
       "      <td>https://pbs.twimg.com/media/CT4udn0WwAA0aMy.jpg</td>\n",
       "      <td>1</td>\n",
       "      <td>Welsh_springer_spaniel</td>\n",
       "      <td>0.465074</td>\n",
       "      <td>True</td>\n",
       "      <td>collie</td>\n",
       "      <td>0.156665</td>\n",
       "      <td>True</td>\n",
       "      <td>Shetland_sheepdog</td>\n",
       "      <td>0.061428</td>\n",
       "      <td>True</td>\n",
       "    </tr>\n",
       "    <tr>\n",
       "      <th>1</th>\n",
       "      <td>666029285002620928</td>\n",
       "      <td>https://pbs.twimg.com/media/CT42GRgUYAA5iDo.jpg</td>\n",
       "      <td>1</td>\n",
       "      <td>redbone</td>\n",
       "      <td>0.506826</td>\n",
       "      <td>True</td>\n",
       "      <td>miniature_pinscher</td>\n",
       "      <td>0.074192</td>\n",
       "      <td>True</td>\n",
       "      <td>Rhodesian_ridgeback</td>\n",
       "      <td>0.072010</td>\n",
       "      <td>True</td>\n",
       "    </tr>\n",
       "    <tr>\n",
       "      <th>2</th>\n",
       "      <td>666033412701032449</td>\n",
       "      <td>https://pbs.twimg.com/media/CT4521TWwAEvMyu.jpg</td>\n",
       "      <td>1</td>\n",
       "      <td>German_shepherd</td>\n",
       "      <td>0.596461</td>\n",
       "      <td>True</td>\n",
       "      <td>malinois</td>\n",
       "      <td>0.138584</td>\n",
       "      <td>True</td>\n",
       "      <td>bloodhound</td>\n",
       "      <td>0.116197</td>\n",
       "      <td>True</td>\n",
       "    </tr>\n",
       "  </tbody>\n",
       "</table>\n",
       "</div>"
      ],
      "text/plain": [
       "             tweet_id                                          jpg_url  \\\n",
       "0  666020888022790149  https://pbs.twimg.com/media/CT4udn0WwAA0aMy.jpg   \n",
       "1  666029285002620928  https://pbs.twimg.com/media/CT42GRgUYAA5iDo.jpg   \n",
       "2  666033412701032449  https://pbs.twimg.com/media/CT4521TWwAEvMyu.jpg   \n",
       "\n",
       "   img_num                      p1   p1_conf  p1_dog                  p2  \\\n",
       "0        1  Welsh_springer_spaniel  0.465074    True              collie   \n",
       "1        1                 redbone  0.506826    True  miniature_pinscher   \n",
       "2        1         German_shepherd  0.596461    True            malinois   \n",
       "\n",
       "    p2_conf  p2_dog                   p3   p3_conf  p3_dog  \n",
       "0  0.156665    True    Shetland_sheepdog  0.061428    True  \n",
       "1  0.074192    True  Rhodesian_ridgeback  0.072010    True  \n",
       "2  0.138584    True           bloodhound  0.116197    True  "
      ]
     },
     "execution_count": 6,
     "metadata": {},
     "output_type": "execute_result"
    }
   ],
   "source": [
    "img_prediction.head(3)"
   ]
  },
  {
   "cell_type": "code",
   "execution_count": 7,
   "id": "939eb036-8954-4e98-9ce1-8f6012781983",
   "metadata": {
    "tags": []
   },
   "outputs": [],
   "source": [
    "#download the additional using the tweepy library and Twitter API\n",
    "\n",
    "#initialize access tokens\n",
    "\n",
    "consumer_key = os.environ.get('twitter_consumer_api_key')\n",
    "consumer_secret = os.environ.get('twitter_consumer_api_key_secrete')\n",
    "access_token = os.environ.get('twitter_access_token')\n",
    "access_secret = os.environ.get('twitter_access_token_secrete')\n",
    "\n",
    "#create a tweepy authenticator object\n",
    "authenticator = tweepy.OAuthHandler(consumer_key, consumer_secret)\n",
    "authenticator.set_access_token(access_token, access_secret)\n",
    "\n",
    "#create a tweepy_api object\n",
    "the_api = tweepy.API(authenticator)"
   ]
  },
  {
   "cell_type": "code",
   "execution_count": 8,
   "id": "55d95669-602b-495b-bcc5-4271a6b613e4",
   "metadata": {
    "tags": []
   },
   "outputs": [
    {
     "name": "stdout",
     "output_type": "stream",
     "text": [
      "Couldn't find program: 'perl'\n"
     ]
    }
   ],
   "source": [
    "%%perl -e0\n",
    "#Gather each tweet's retweet count and favorite (\"like\") count\n",
    "\n",
    "#initialize filename for which the json object for each tweet would be appended\n",
    "file_name = 'tweet_json_2.txt'\n",
    "\n",
    "#delete the content of the file if it contains any text\n",
    "# if os.stat('./data/tweet_json.txt').st_size != 0:\n",
    "#     with open(os.path.join(root_folder, file_name), 'r+') as file:\n",
    "#             file.truncate(0)\n",
    "        \n",
    "#get all ids\n",
    "# tweet_id = we_rate_dogs_data['tweet_id'].values\n",
    "tweet_id = we_rate_dogs_data.set_index('tweet_id').loc[758740312047005698 : , :].index\n",
    "\n",
    "#get the total ids: this would help in tracking our query when running\n",
    "total_tweet_count = len(tweet_id) -1\n",
    "\n",
    "#for each tweet id, query the tweet and get the favorite count and retweet count\n",
    "#save this data in a dictionary for each tweet_id\n",
    "for id in tweet_id:\n",
    "    #create a new dictionary-data for each tweet\n",
    "    tweet_json_data = {\n",
    "        'tweet_id' : str(id)\n",
    "    }\n",
    "    try:\n",
    "        #query\n",
    "        response = the_api.get_status(str(id), tweet_mode = 'extended')\n",
    "        \n",
    "        #save the tweet object in the dictionary\n",
    "        tweet_json_data['retweet_count'] = str(response.retweet_count)\n",
    "        tweet_json_data['favorite_count'] = str(response.favorite_count)\n",
    "        \n",
    "        #if error occurs, handle it\n",
    "    except tweepy.TweepyException as error:\n",
    "        tweet_json_data['retweet_count'] = str(error)\n",
    "        tweet_json_data['retweet_count'] = str(error)\n",
    "    \n",
    "    #open the text file in append mode and append the tweet object data\n",
    "    with open(os.path.join(root_folder, file_name), 'a') as file:\n",
    "        file.write(json.dumps(tweet_json_data) + '\\n')\n",
    "    print('done... ' + str(total_tweet_count) + ' remaining', end='\\r')\n",
    "    total_tweet_count = total_tweet_count - 1"
   ]
  },
  {
   "cell_type": "code",
   "execution_count": 9,
   "id": "f7aedc34-4ff0-40f4-ad40-10838eb422f8",
   "metadata": {},
   "outputs": [],
   "source": [
    "#read the json data into pandas dataframe\n",
    "data_list =[]\n",
    "\n",
    "with open('./data/tweet_json.txt', 'r') as file:\n",
    "    data_line = file.read()\n",
    "    data_list.append(data_line)\n",
    "\n",
    "ok = map(lambda x: eval(x.split('\\n')[0]), data_list[0].split('\\n')) \n",
    "json_api_data = pd.DataFrame(list(ok))"
   ]
  },
  {
   "cell_type": "code",
   "execution_count": 10,
   "id": "4eb48316-160c-42b4-b9d3-7f619594d46c",
   "metadata": {},
   "outputs": [
    {
     "data": {
      "text/html": [
       "<div>\n",
       "<style scoped>\n",
       "    .dataframe tbody tr th:only-of-type {\n",
       "        vertical-align: middle;\n",
       "    }\n",
       "\n",
       "    .dataframe tbody tr th {\n",
       "        vertical-align: top;\n",
       "    }\n",
       "\n",
       "    .dataframe thead th {\n",
       "        text-align: right;\n",
       "    }\n",
       "</style>\n",
       "<table border=\"1\" class=\"dataframe\">\n",
       "  <thead>\n",
       "    <tr style=\"text-align: right;\">\n",
       "      <th></th>\n",
       "      <th>tweet_id</th>\n",
       "      <th>retweet_count</th>\n",
       "      <th>favorite_count</th>\n",
       "    </tr>\n",
       "  </thead>\n",
       "  <tbody>\n",
       "    <tr>\n",
       "      <th>0</th>\n",
       "      <td>892420643555336193</td>\n",
       "      <td>7009</td>\n",
       "      <td>33820</td>\n",
       "    </tr>\n",
       "    <tr>\n",
       "      <th>1</th>\n",
       "      <td>892177421306343426</td>\n",
       "      <td>5302</td>\n",
       "      <td>29337</td>\n",
       "    </tr>\n",
       "    <tr>\n",
       "      <th>2</th>\n",
       "      <td>891815181378084864</td>\n",
       "      <td>3481</td>\n",
       "      <td>22060</td>\n",
       "    </tr>\n",
       "    <tr>\n",
       "      <th>3</th>\n",
       "      <td>891689557279858688</td>\n",
       "      <td>7227</td>\n",
       "      <td>36947</td>\n",
       "    </tr>\n",
       "    <tr>\n",
       "      <th>4</th>\n",
       "      <td>891327558926688256</td>\n",
       "      <td>7763</td>\n",
       "      <td>35277</td>\n",
       "    </tr>\n",
       "    <tr>\n",
       "      <th>...</th>\n",
       "      <td>...</td>\n",
       "      <td>...</td>\n",
       "      <td>...</td>\n",
       "    </tr>\n",
       "    <tr>\n",
       "      <th>2351</th>\n",
       "      <td>666049248165822465</td>\n",
       "      <td>37</td>\n",
       "      <td>89</td>\n",
       "    </tr>\n",
       "    <tr>\n",
       "      <th>2352</th>\n",
       "      <td>666044226329800704</td>\n",
       "      <td>115</td>\n",
       "      <td>247</td>\n",
       "    </tr>\n",
       "    <tr>\n",
       "      <th>2353</th>\n",
       "      <td>666033412701032449</td>\n",
       "      <td>36</td>\n",
       "      <td>100</td>\n",
       "    </tr>\n",
       "    <tr>\n",
       "      <th>2354</th>\n",
       "      <td>666029285002620928</td>\n",
       "      <td>39</td>\n",
       "      <td>112</td>\n",
       "    </tr>\n",
       "    <tr>\n",
       "      <th>2355</th>\n",
       "      <td>666020888022790149</td>\n",
       "      <td>423</td>\n",
       "      <td>2292</td>\n",
       "    </tr>\n",
       "  </tbody>\n",
       "</table>\n",
       "<p>2356 rows × 3 columns</p>\n",
       "</div>"
      ],
      "text/plain": [
       "                tweet_id retweet_count favorite_count\n",
       "0     892420643555336193          7009          33820\n",
       "1     892177421306343426          5302          29337\n",
       "2     891815181378084864          3481          22060\n",
       "3     891689557279858688          7227          36947\n",
       "4     891327558926688256          7763          35277\n",
       "...                  ...           ...            ...\n",
       "2351  666049248165822465            37             89\n",
       "2352  666044226329800704           115            247\n",
       "2353  666033412701032449            36            100\n",
       "2354  666029285002620928            39            112\n",
       "2355  666020888022790149           423           2292\n",
       "\n",
       "[2356 rows x 3 columns]"
      ]
     },
     "execution_count": 10,
     "metadata": {},
     "output_type": "execute_result"
    }
   ],
   "source": [
    "json_api_data"
   ]
  },
  {
   "cell_type": "markdown",
   "id": "1363ac25-9e2a-449d-86ba-61720b6d4b9c",
   "metadata": {},
   "source": [
    "## Assessing Data"
   ]
  },
  {
   "cell_type": "markdown",
   "id": "47e4efc9-eb9f-4519-8bd6-19f46fe2c674",
   "metadata": {},
   "source": [
    "The three dataset required for this project is ready for assessing post... cleaning. In this section I'll take a visual and programmatic assessment on the three dataset for `Quality` and `Tidyness` issues. Each issue identified in the dataset would be documented. This would serve as a guild for the next section when cleaning the data."
   ]
  },
  {
   "cell_type": "code",
   "execution_count": 11,
   "id": "2f972a46-f705-4921-b845-e293d8b3aeaf",
   "metadata": {},
   "outputs": [
    {
     "data": {
      "text/html": [
       "<div>\n",
       "<style scoped>\n",
       "    .dataframe tbody tr th:only-of-type {\n",
       "        vertical-align: middle;\n",
       "    }\n",
       "\n",
       "    .dataframe tbody tr th {\n",
       "        vertical-align: top;\n",
       "    }\n",
       "\n",
       "    .dataframe thead th {\n",
       "        text-align: right;\n",
       "    }\n",
       "</style>\n",
       "<table border=\"1\" class=\"dataframe\">\n",
       "  <thead>\n",
       "    <tr style=\"text-align: right;\">\n",
       "      <th></th>\n",
       "      <th>tweet_id</th>\n",
       "      <th>in_reply_to_status_id</th>\n",
       "      <th>in_reply_to_user_id</th>\n",
       "      <th>timestamp</th>\n",
       "      <th>source</th>\n",
       "      <th>text</th>\n",
       "      <th>retweeted_status_id</th>\n",
       "      <th>retweeted_status_user_id</th>\n",
       "      <th>retweeted_status_timestamp</th>\n",
       "      <th>expanded_urls</th>\n",
       "      <th>rating_numerator</th>\n",
       "      <th>rating_denominator</th>\n",
       "      <th>name</th>\n",
       "      <th>doggo</th>\n",
       "      <th>floofer</th>\n",
       "      <th>pupper</th>\n",
       "      <th>puppo</th>\n",
       "    </tr>\n",
       "  </thead>\n",
       "  <tbody>\n",
       "    <tr>\n",
       "      <th>0</th>\n",
       "      <td>892420643555336193</td>\n",
       "      <td>NaN</td>\n",
       "      <td>NaN</td>\n",
       "      <td>2017-08-01 16:23:56 +0000</td>\n",
       "      <td>&lt;a href=\"http://twitter.com/download/iphone\" r...</td>\n",
       "      <td>This is Phineas. He's a mystical boy. Only eve...</td>\n",
       "      <td>NaN</td>\n",
       "      <td>NaN</td>\n",
       "      <td>NaN</td>\n",
       "      <td>https://twitter.com/dog_rates/status/892420643...</td>\n",
       "      <td>13</td>\n",
       "      <td>10</td>\n",
       "      <td>Phineas</td>\n",
       "      <td>None</td>\n",
       "      <td>None</td>\n",
       "      <td>None</td>\n",
       "      <td>None</td>\n",
       "    </tr>\n",
       "    <tr>\n",
       "      <th>1</th>\n",
       "      <td>892177421306343426</td>\n",
       "      <td>NaN</td>\n",
       "      <td>NaN</td>\n",
       "      <td>2017-08-01 00:17:27 +0000</td>\n",
       "      <td>&lt;a href=\"http://twitter.com/download/iphone\" r...</td>\n",
       "      <td>This is Tilly. She's just checking pup on you....</td>\n",
       "      <td>NaN</td>\n",
       "      <td>NaN</td>\n",
       "      <td>NaN</td>\n",
       "      <td>https://twitter.com/dog_rates/status/892177421...</td>\n",
       "      <td>13</td>\n",
       "      <td>10</td>\n",
       "      <td>Tilly</td>\n",
       "      <td>None</td>\n",
       "      <td>None</td>\n",
       "      <td>None</td>\n",
       "      <td>None</td>\n",
       "    </tr>\n",
       "    <tr>\n",
       "      <th>2</th>\n",
       "      <td>891815181378084864</td>\n",
       "      <td>NaN</td>\n",
       "      <td>NaN</td>\n",
       "      <td>2017-07-31 00:18:03 +0000</td>\n",
       "      <td>&lt;a href=\"http://twitter.com/download/iphone\" r...</td>\n",
       "      <td>This is Archie. He is a rare Norwegian Pouncin...</td>\n",
       "      <td>NaN</td>\n",
       "      <td>NaN</td>\n",
       "      <td>NaN</td>\n",
       "      <td>https://twitter.com/dog_rates/status/891815181...</td>\n",
       "      <td>12</td>\n",
       "      <td>10</td>\n",
       "      <td>Archie</td>\n",
       "      <td>None</td>\n",
       "      <td>None</td>\n",
       "      <td>None</td>\n",
       "      <td>None</td>\n",
       "    </tr>\n",
       "    <tr>\n",
       "      <th>3</th>\n",
       "      <td>891689557279858688</td>\n",
       "      <td>NaN</td>\n",
       "      <td>NaN</td>\n",
       "      <td>2017-07-30 15:58:51 +0000</td>\n",
       "      <td>&lt;a href=\"http://twitter.com/download/iphone\" r...</td>\n",
       "      <td>This is Darla. She commenced a snooze mid meal...</td>\n",
       "      <td>NaN</td>\n",
       "      <td>NaN</td>\n",
       "      <td>NaN</td>\n",
       "      <td>https://twitter.com/dog_rates/status/891689557...</td>\n",
       "      <td>13</td>\n",
       "      <td>10</td>\n",
       "      <td>Darla</td>\n",
       "      <td>None</td>\n",
       "      <td>None</td>\n",
       "      <td>None</td>\n",
       "      <td>None</td>\n",
       "    </tr>\n",
       "    <tr>\n",
       "      <th>4</th>\n",
       "      <td>891327558926688256</td>\n",
       "      <td>NaN</td>\n",
       "      <td>NaN</td>\n",
       "      <td>2017-07-29 16:00:24 +0000</td>\n",
       "      <td>&lt;a href=\"http://twitter.com/download/iphone\" r...</td>\n",
       "      <td>This is Franklin. He would like you to stop ca...</td>\n",
       "      <td>NaN</td>\n",
       "      <td>NaN</td>\n",
       "      <td>NaN</td>\n",
       "      <td>https://twitter.com/dog_rates/status/891327558...</td>\n",
       "      <td>12</td>\n",
       "      <td>10</td>\n",
       "      <td>Franklin</td>\n",
       "      <td>None</td>\n",
       "      <td>None</td>\n",
       "      <td>None</td>\n",
       "      <td>None</td>\n",
       "    </tr>\n",
       "  </tbody>\n",
       "</table>\n",
       "</div>"
      ],
      "text/plain": [
       "             tweet_id  in_reply_to_status_id  in_reply_to_user_id  \\\n",
       "0  892420643555336193                    NaN                  NaN   \n",
       "1  892177421306343426                    NaN                  NaN   \n",
       "2  891815181378084864                    NaN                  NaN   \n",
       "3  891689557279858688                    NaN                  NaN   \n",
       "4  891327558926688256                    NaN                  NaN   \n",
       "\n",
       "                   timestamp  \\\n",
       "0  2017-08-01 16:23:56 +0000   \n",
       "1  2017-08-01 00:17:27 +0000   \n",
       "2  2017-07-31 00:18:03 +0000   \n",
       "3  2017-07-30 15:58:51 +0000   \n",
       "4  2017-07-29 16:00:24 +0000   \n",
       "\n",
       "                                              source  \\\n",
       "0  <a href=\"http://twitter.com/download/iphone\" r...   \n",
       "1  <a href=\"http://twitter.com/download/iphone\" r...   \n",
       "2  <a href=\"http://twitter.com/download/iphone\" r...   \n",
       "3  <a href=\"http://twitter.com/download/iphone\" r...   \n",
       "4  <a href=\"http://twitter.com/download/iphone\" r...   \n",
       "\n",
       "                                                text  retweeted_status_id  \\\n",
       "0  This is Phineas. He's a mystical boy. Only eve...                  NaN   \n",
       "1  This is Tilly. She's just checking pup on you....                  NaN   \n",
       "2  This is Archie. He is a rare Norwegian Pouncin...                  NaN   \n",
       "3  This is Darla. She commenced a snooze mid meal...                  NaN   \n",
       "4  This is Franklin. He would like you to stop ca...                  NaN   \n",
       "\n",
       "   retweeted_status_user_id retweeted_status_timestamp  \\\n",
       "0                       NaN                        NaN   \n",
       "1                       NaN                        NaN   \n",
       "2                       NaN                        NaN   \n",
       "3                       NaN                        NaN   \n",
       "4                       NaN                        NaN   \n",
       "\n",
       "                                       expanded_urls  rating_numerator  \\\n",
       "0  https://twitter.com/dog_rates/status/892420643...                13   \n",
       "1  https://twitter.com/dog_rates/status/892177421...                13   \n",
       "2  https://twitter.com/dog_rates/status/891815181...                12   \n",
       "3  https://twitter.com/dog_rates/status/891689557...                13   \n",
       "4  https://twitter.com/dog_rates/status/891327558...                12   \n",
       "\n",
       "   rating_denominator      name doggo floofer pupper puppo  \n",
       "0                  10   Phineas  None    None   None  None  \n",
       "1                  10     Tilly  None    None   None  None  \n",
       "2                  10    Archie  None    None   None  None  \n",
       "3                  10     Darla  None    None   None  None  \n",
       "4                  10  Franklin  None    None   None  None  "
      ]
     },
     "execution_count": 11,
     "metadata": {},
     "output_type": "execute_result"
    }
   ],
   "source": [
    "we_rate_dogs_data.head()"
   ]
  },
  {
   "cell_type": "code",
   "execution_count": 12,
   "id": "62592409-e09a-4a87-a9bf-0aa9c2222326",
   "metadata": {},
   "outputs": [
    {
     "name": "stdout",
     "output_type": "stream",
     "text": [
      "<class 'pandas.core.frame.DataFrame'>\n",
      "RangeIndex: 2356 entries, 0 to 2355\n",
      "Data columns (total 17 columns):\n",
      " #   Column                      Non-Null Count  Dtype  \n",
      "---  ------                      --------------  -----  \n",
      " 0   tweet_id                    2356 non-null   int64  \n",
      " 1   in_reply_to_status_id       78 non-null     float64\n",
      " 2   in_reply_to_user_id         78 non-null     float64\n",
      " 3   timestamp                   2356 non-null   object \n",
      " 4   source                      2356 non-null   object \n",
      " 5   text                        2356 non-null   object \n",
      " 6   retweeted_status_id         181 non-null    float64\n",
      " 7   retweeted_status_user_id    181 non-null    float64\n",
      " 8   retweeted_status_timestamp  181 non-null    object \n",
      " 9   expanded_urls               2297 non-null   object \n",
      " 10  rating_numerator            2356 non-null   int64  \n",
      " 11  rating_denominator          2356 non-null   int64  \n",
      " 12  name                        2356 non-null   object \n",
      " 13  doggo                       2356 non-null   object \n",
      " 14  floofer                     2356 non-null   object \n",
      " 15  pupper                      2356 non-null   object \n",
      " 16  puppo                       2356 non-null   object \n",
      "dtypes: float64(4), int64(3), object(10)\n",
      "memory usage: 313.0+ KB\n"
     ]
    }
   ],
   "source": [
    "#check for basic info. about the data\n",
    "we_rate_dogs_data.info()"
   ]
  },
  {
   "cell_type": "code",
   "execution_count": 13,
   "id": "abece745-32f9-4d35-8ac7-568a516b7a2b",
   "metadata": {},
   "outputs": [
    {
     "data": {
      "text/plain": [
       "<AxesSubplot:>"
      ]
     },
     "execution_count": 13,
     "metadata": {},
     "output_type": "execute_result"
    },
    {
     "data": {
      "image/png": "[encoded data removed]",
      "text/plain": [
       "<Figure size 792x504 with 1 Axes>"
      ]
     },
     "metadata": {
      "needs_background": "light"
     },
     "output_type": "display_data"
    }
   ],
   "source": [
    "#check for null values\n",
    "we_rate_dogs_data.isnull().sum().plot(kind='barh', figsize=(11, 7))"
   ]
  },
  {
   "cell_type": "code",
   "execution_count": 14,
   "id": "b6a998da-9c03-4ae9-b437-7a5a041a1d0a",
   "metadata": {},
   "outputs": [
    {
     "data": {
      "text/plain": [
       "0"
      ]
     },
     "execution_count": 14,
     "metadata": {},
     "output_type": "execute_result"
    }
   ],
   "source": [
    "we_rate_dogs_data.duplicated().sum()"
   ]
  },
  {
   "cell_type": "code",
   "execution_count": 15,
   "id": "978653a5-b4b9-49ae-99e8-56dcfac71a7d",
   "metadata": {},
   "outputs": [
    {
     "data": {
      "text/html": [
       "<div>\n",
       "<style scoped>\n",
       "    .dataframe tbody tr th:only-of-type {\n",
       "        vertical-align: middle;\n",
       "    }\n",
       "\n",
       "    .dataframe tbody tr th {\n",
       "        vertical-align: top;\n",
       "    }\n",
       "\n",
       "    .dataframe thead th {\n",
       "        text-align: right;\n",
       "    }\n",
       "</style>\n",
       "<table border=\"1\" class=\"dataframe\">\n",
       "  <thead>\n",
       "    <tr style=\"text-align: right;\">\n",
       "      <th></th>\n",
       "      <th>tweet_id</th>\n",
       "      <th>in_reply_to_status_id</th>\n",
       "      <th>in_reply_to_user_id</th>\n",
       "      <th>retweeted_status_id</th>\n",
       "      <th>retweeted_status_user_id</th>\n",
       "      <th>rating_numerator</th>\n",
       "      <th>rating_denominator</th>\n",
       "    </tr>\n",
       "  </thead>\n",
       "  <tbody>\n",
       "    <tr>\n",
       "      <th>count</th>\n",
       "      <td>2.356000e+03</td>\n",
       "      <td>7.800000e+01</td>\n",
       "      <td>7.800000e+01</td>\n",
       "      <td>1.810000e+02</td>\n",
       "      <td>1.810000e+02</td>\n",
       "      <td>2356.000000</td>\n",
       "      <td>2356.000000</td>\n",
       "    </tr>\n",
       "    <tr>\n",
       "      <th>mean</th>\n",
       "      <td>7.427716e+17</td>\n",
       "      <td>7.455079e+17</td>\n",
       "      <td>2.014171e+16</td>\n",
       "      <td>7.720400e+17</td>\n",
       "      <td>1.241698e+16</td>\n",
       "      <td>13.126486</td>\n",
       "      <td>10.455433</td>\n",
       "    </tr>\n",
       "    <tr>\n",
       "      <th>std</th>\n",
       "      <td>6.856705e+16</td>\n",
       "      <td>7.582492e+16</td>\n",
       "      <td>1.252797e+17</td>\n",
       "      <td>6.236928e+16</td>\n",
       "      <td>9.599254e+16</td>\n",
       "      <td>45.876648</td>\n",
       "      <td>6.745237</td>\n",
       "    </tr>\n",
       "    <tr>\n",
       "      <th>min</th>\n",
       "      <td>6.660209e+17</td>\n",
       "      <td>6.658147e+17</td>\n",
       "      <td>1.185634e+07</td>\n",
       "      <td>6.661041e+17</td>\n",
       "      <td>7.832140e+05</td>\n",
       "      <td>0.000000</td>\n",
       "      <td>0.000000</td>\n",
       "    </tr>\n",
       "    <tr>\n",
       "      <th>25%</th>\n",
       "      <td>6.783989e+17</td>\n",
       "      <td>6.757419e+17</td>\n",
       "      <td>3.086374e+08</td>\n",
       "      <td>7.186315e+17</td>\n",
       "      <td>4.196984e+09</td>\n",
       "      <td>10.000000</td>\n",
       "      <td>10.000000</td>\n",
       "    </tr>\n",
       "    <tr>\n",
       "      <th>50%</th>\n",
       "      <td>7.196279e+17</td>\n",
       "      <td>7.038708e+17</td>\n",
       "      <td>4.196984e+09</td>\n",
       "      <td>7.804657e+17</td>\n",
       "      <td>4.196984e+09</td>\n",
       "      <td>11.000000</td>\n",
       "      <td>10.000000</td>\n",
       "    </tr>\n",
       "    <tr>\n",
       "      <th>75%</th>\n",
       "      <td>7.993373e+17</td>\n",
       "      <td>8.257804e+17</td>\n",
       "      <td>4.196984e+09</td>\n",
       "      <td>8.203146e+17</td>\n",
       "      <td>4.196984e+09</td>\n",
       "      <td>12.000000</td>\n",
       "      <td>10.000000</td>\n",
       "    </tr>\n",
       "    <tr>\n",
       "      <th>max</th>\n",
       "      <td>8.924206e+17</td>\n",
       "      <td>8.862664e+17</td>\n",
       "      <td>8.405479e+17</td>\n",
       "      <td>8.874740e+17</td>\n",
       "      <td>7.874618e+17</td>\n",
       "      <td>1776.000000</td>\n",
       "      <td>170.000000</td>\n",
       "    </tr>\n",
       "  </tbody>\n",
       "</table>\n",
       "</div>"
      ],
      "text/plain": [
       "           tweet_id  in_reply_to_status_id  in_reply_to_user_id  \\\n",
       "count  2.356000e+03           7.800000e+01         7.800000e+01   \n",
       "mean   7.427716e+17           7.455079e+17         2.014171e+16   \n",
       "std    6.856705e+16           7.582492e+16         1.252797e+17   \n",
       "min    6.660209e+17           6.658147e+17         1.185634e+07   \n",
       "25%    6.783989e+17           6.757419e+17         3.086374e+08   \n",
       "50%    7.196279e+17           7.038708e+17         4.196984e+09   \n",
       "75%    7.993373e+17           8.257804e+17         4.196984e+09   \n",
       "max    8.924206e+17           8.862664e+17         8.405479e+17   \n",
       "\n",
       "       retweeted_status_id  retweeted_status_user_id  rating_numerator  \\\n",
       "count         1.810000e+02              1.810000e+02       2356.000000   \n",
       "mean          7.720400e+17              1.241698e+16         13.126486   \n",
       "std           6.236928e+16              9.599254e+16         45.876648   \n",
       "min           6.661041e+17              7.832140e+05          0.000000   \n",
       "25%           7.186315e+17              4.196984e+09         10.000000   \n",
       "50%           7.804657e+17              4.196984e+09         11.000000   \n",
       "75%           8.203146e+17              4.196984e+09         12.000000   \n",
       "max           8.874740e+17              7.874618e+17       1776.000000   \n",
       "\n",
       "       rating_denominator  \n",
       "count         2356.000000  \n",
       "mean            10.455433  \n",
       "std              6.745237  \n",
       "min              0.000000  \n",
       "25%             10.000000  \n",
       "50%             10.000000  \n",
       "75%             10.000000  \n",
       "max            170.000000  "
      ]
     },
     "execution_count": 15,
     "metadata": {},
     "output_type": "execute_result"
    }
   ],
   "source": [
    "we_rate_dogs_data.describe()"
   ]
  },
  {
   "cell_type": "markdown",
   "id": "6f846b0b-f7e4-44f6-a527-09ce330f8d3e",
   "metadata": {},
   "source": [
    "### **Quality issues:**\n",
    "- #### we_rate_dogs_data:\n",
    "    - NaN values in columns: \n",
    "        - `in_reply_status_id`\n",
    "        - `retweeted_status_id,`\n",
    "        - `retweetwed_status_time_stamp` etc\n",
    "    - timestamp column should be in pandas datetime format\n",
    "    - columns not needed for this analysis include:\n",
    "        - `source`\n",
    "        - `timestamp` \n",
    "        - `expanded_urls`\n",
    "        - `in_reply_status_id`\n",
    "        - `retweeted_status_id`, \n",
    "        - `retweetwed_status_time_stamp`\n",
    "    - maximum `rating_numerator` and `rating_denominator` is 1776 and 170 respectively. This is very far from 75% of other ratings"
   ]
  },
  {
   "cell_type": "code",
   "execution_count": 16,
   "id": "b7d7d3e2-1155-4d08-94c5-6b89c6ab7b95",
   "metadata": {},
   "outputs": [
    {
     "data": {
      "text/html": [
       "<div>\n",
       "<style scoped>\n",
       "    .dataframe tbody tr th:only-of-type {\n",
       "        vertical-align: middle;\n",
       "    }\n",
       "\n",
       "    .dataframe tbody tr th {\n",
       "        vertical-align: top;\n",
       "    }\n",
       "\n",
       "    .dataframe thead th {\n",
       "        text-align: right;\n",
       "    }\n",
       "</style>\n",
       "<table border=\"1\" class=\"dataframe\">\n",
       "  <thead>\n",
       "    <tr style=\"text-align: right;\">\n",
       "      <th></th>\n",
       "      <th>tweet_id</th>\n",
       "      <th>jpg_url</th>\n",
       "      <th>img_num</th>\n",
       "      <th>p1</th>\n",
       "      <th>p1_conf</th>\n",
       "      <th>p1_dog</th>\n",
       "      <th>p2</th>\n",
       "      <th>p2_conf</th>\n",
       "      <th>p2_dog</th>\n",
       "      <th>p3</th>\n",
       "      <th>p3_conf</th>\n",
       "      <th>p3_dog</th>\n",
       "    </tr>\n",
       "  </thead>\n",
       "  <tbody>\n",
       "    <tr>\n",
       "      <th>223</th>\n",
       "      <td>670303360680108032</td>\n",
       "      <td>https://pbs.twimg.com/media/CU1lWFaVAAAl0HG.jpg</td>\n",
       "      <td>1</td>\n",
       "      <td>Shetland_sheepdog</td>\n",
       "      <td>0.380278</td>\n",
       "      <td>True</td>\n",
       "      <td>Cardigan</td>\n",
       "      <td>0.342806</td>\n",
       "      <td>True</td>\n",
       "      <td>guinea_pig</td>\n",
       "      <td>0.156249</td>\n",
       "      <td>False</td>\n",
       "    </tr>\n",
       "    <tr>\n",
       "      <th>984</th>\n",
       "      <td>707420581654872064</td>\n",
       "      <td>https://pbs.twimg.com/media/CdFDQVgWIAArslx.jpg</td>\n",
       "      <td>1</td>\n",
       "      <td>ram</td>\n",
       "      <td>0.518215</td>\n",
       "      <td>False</td>\n",
       "      <td>kuvasz</td>\n",
       "      <td>0.149391</td>\n",
       "      <td>True</td>\n",
       "      <td>Great_Pyrenees</td>\n",
       "      <td>0.106003</td>\n",
       "      <td>True</td>\n",
       "    </tr>\n",
       "    <tr>\n",
       "      <th>281</th>\n",
       "      <td>671122204919246848</td>\n",
       "      <td>https://pbs.twimg.com/media/CVBOFTLWwAAzlNi.jpg</td>\n",
       "      <td>1</td>\n",
       "      <td>goose</td>\n",
       "      <td>0.351957</td>\n",
       "      <td>False</td>\n",
       "      <td>Chihuahua</td>\n",
       "      <td>0.101228</td>\n",
       "      <td>True</td>\n",
       "      <td>hen</td>\n",
       "      <td>0.065818</td>\n",
       "      <td>False</td>\n",
       "    </tr>\n",
       "    <tr>\n",
       "      <th>1595</th>\n",
       "      <td>798925684722855936</td>\n",
       "      <td>https://pbs.twimg.com/media/CxZaqh_WQAA7lY3.jpg</td>\n",
       "      <td>1</td>\n",
       "      <td>West_Highland_white_terrier</td>\n",
       "      <td>0.539463</td>\n",
       "      <td>True</td>\n",
       "      <td>cairn</td>\n",
       "      <td>0.184897</td>\n",
       "      <td>True</td>\n",
       "      <td>Norfolk_terrier</td>\n",
       "      <td>0.163024</td>\n",
       "      <td>True</td>\n",
       "    </tr>\n",
       "    <tr>\n",
       "      <th>1567</th>\n",
       "      <td>794205286408003585</td>\n",
       "      <td>https://pbs.twimg.com/media/CwWVe_3WEAAHAvx.jpg</td>\n",
       "      <td>3</td>\n",
       "      <td>pedestal</td>\n",
       "      <td>0.662660</td>\n",
       "      <td>False</td>\n",
       "      <td>fountain</td>\n",
       "      <td>0.294827</td>\n",
       "      <td>False</td>\n",
       "      <td>brass</td>\n",
       "      <td>0.020371</td>\n",
       "      <td>False</td>\n",
       "    </tr>\n",
       "  </tbody>\n",
       "</table>\n",
       "</div>"
      ],
      "text/plain": [
       "                tweet_id                                          jpg_url  \\\n",
       "223   670303360680108032  https://pbs.twimg.com/media/CU1lWFaVAAAl0HG.jpg   \n",
       "984   707420581654872064  https://pbs.twimg.com/media/CdFDQVgWIAArslx.jpg   \n",
       "281   671122204919246848  https://pbs.twimg.com/media/CVBOFTLWwAAzlNi.jpg   \n",
       "1595  798925684722855936  https://pbs.twimg.com/media/CxZaqh_WQAA7lY3.jpg   \n",
       "1567  794205286408003585  https://pbs.twimg.com/media/CwWVe_3WEAAHAvx.jpg   \n",
       "\n",
       "      img_num                           p1   p1_conf  p1_dog         p2  \\\n",
       "223         1            Shetland_sheepdog  0.380278    True   Cardigan   \n",
       "984         1                          ram  0.518215   False     kuvasz   \n",
       "281         1                        goose  0.351957   False  Chihuahua   \n",
       "1595        1  West_Highland_white_terrier  0.539463    True      cairn   \n",
       "1567        3                     pedestal  0.662660   False   fountain   \n",
       "\n",
       "       p2_conf  p2_dog               p3   p3_conf  p3_dog  \n",
       "223   0.342806    True       guinea_pig  0.156249   False  \n",
       "984   0.149391    True   Great_Pyrenees  0.106003    True  \n",
       "281   0.101228    True              hen  0.065818   False  \n",
       "1595  0.184897    True  Norfolk_terrier  0.163024    True  \n",
       "1567  0.294827   False            brass  0.020371   False  "
      ]
     },
     "execution_count": 16,
     "metadata": {},
     "output_type": "execute_result"
    }
   ],
   "source": [
    "img_prediction.sample(5)"
   ]
  },
  {
   "cell_type": "code",
   "execution_count": 17,
   "id": "2c0dec07-f03d-4838-aa64-33af0ef4b35b",
   "metadata": {},
   "outputs": [
    {
     "data": {
      "text/plain": [
       "tweet_id    0\n",
       "jpg_url     0\n",
       "img_num     0\n",
       "p1          0\n",
       "p1_conf     0\n",
       "p1_dog      0\n",
       "p2          0\n",
       "p2_conf     0\n",
       "p2_dog      0\n",
       "p3          0\n",
       "p3_conf     0\n",
       "p3_dog      0\n",
       "dtype: int64"
      ]
     },
     "execution_count": 17,
     "metadata": {},
     "output_type": "execute_result"
    }
   ],
   "source": [
    "img_prediction.isnull().sum()"
   ]
  },
  {
   "cell_type": "code",
   "execution_count": 18,
   "id": "9ba4e0ba-e1bd-4f8c-91f4-14a11cc8b696",
   "metadata": {},
   "outputs": [
    {
     "data": {
      "text/plain": [
       "0"
      ]
     },
     "execution_count": 18,
     "metadata": {},
     "output_type": "execute_result"
    }
   ],
   "source": [
    "img_prediction.duplicated().sum()"
   ]
  },
  {
   "cell_type": "code",
   "execution_count": 19,
   "id": "99ac0525-59f1-4cac-b2e5-68471f5b3193",
   "metadata": {},
   "outputs": [
    {
     "name": "stdout",
     "output_type": "stream",
     "text": [
      "<class 'pandas.core.frame.DataFrame'>\n",
      "RangeIndex: 2075 entries, 0 to 2074\n",
      "Data columns (total 12 columns):\n",
      " #   Column    Non-Null Count  Dtype  \n",
      "---  ------    --------------  -----  \n",
      " 0   tweet_id  2075 non-null   int64  \n",
      " 1   jpg_url   2075 non-null   object \n",
      " 2   img_num   2075 non-null   int64  \n",
      " 3   p1        2075 non-null   object \n",
      " 4   p1_conf   2075 non-null   float64\n",
      " 5   p1_dog    2075 non-null   bool   \n",
      " 6   p2        2075 non-null   object \n",
      " 7   p2_conf   2075 non-null   float64\n",
      " 8   p2_dog    2075 non-null   bool   \n",
      " 9   p3        2075 non-null   object \n",
      " 10  p3_conf   2075 non-null   float64\n",
      " 11  p3_dog    2075 non-null   bool   \n",
      "dtypes: bool(3), float64(3), int64(2), object(4)\n",
      "memory usage: 152.1+ KB\n"
     ]
    }
   ],
   "source": [
    "img_prediction.info()"
   ]
  },
  {
   "cell_type": "markdown",
   "id": "a08e8ed0-df67-43a3-81e1-96b9cb235e8e",
   "metadata": {},
   "source": [
    "### **Quality_issues**\n",
    "- `image_prediction_data`\n",
    "    - Only original tweets/ratings are needed for this project (no retweets)\n",
    "    - Though there are 5000+ tweets in the dataset, not all are dog. We need only tweets that contains dog images"
   ]
  },
  {
   "cell_type": "code",
   "execution_count": 20,
   "id": "7c2175e8-eb6d-4d76-bd9b-467ce5c19a65",
   "metadata": {},
   "outputs": [
    {
     "data": {
      "text/html": [
       "<div>\n",
       "<style scoped>\n",
       "    .dataframe tbody tr th:only-of-type {\n",
       "        vertical-align: middle;\n",
       "    }\n",
       "\n",
       "    .dataframe tbody tr th {\n",
       "        vertical-align: top;\n",
       "    }\n",
       "\n",
       "    .dataframe thead th {\n",
       "        text-align: right;\n",
       "    }\n",
       "</style>\n",
       "<table border=\"1\" class=\"dataframe\">\n",
       "  <thead>\n",
       "    <tr style=\"text-align: right;\">\n",
       "      <th></th>\n",
       "      <th>tweet_id</th>\n",
       "      <th>retweet_count</th>\n",
       "      <th>favorite_count</th>\n",
       "    </tr>\n",
       "  </thead>\n",
       "  <tbody>\n",
       "    <tr>\n",
       "      <th>0</th>\n",
       "      <td>892420643555336193</td>\n",
       "      <td>7009</td>\n",
       "      <td>33820</td>\n",
       "    </tr>\n",
       "    <tr>\n",
       "      <th>1</th>\n",
       "      <td>892177421306343426</td>\n",
       "      <td>5302</td>\n",
       "      <td>29337</td>\n",
       "    </tr>\n",
       "    <tr>\n",
       "      <th>2</th>\n",
       "      <td>891815181378084864</td>\n",
       "      <td>3481</td>\n",
       "      <td>22060</td>\n",
       "    </tr>\n",
       "    <tr>\n",
       "      <th>3</th>\n",
       "      <td>891689557279858688</td>\n",
       "      <td>7227</td>\n",
       "      <td>36947</td>\n",
       "    </tr>\n",
       "    <tr>\n",
       "      <th>4</th>\n",
       "      <td>891327558926688256</td>\n",
       "      <td>7763</td>\n",
       "      <td>35277</td>\n",
       "    </tr>\n",
       "  </tbody>\n",
       "</table>\n",
       "</div>"
      ],
      "text/plain": [
       "             tweet_id retweet_count favorite_count\n",
       "0  892420643555336193          7009          33820\n",
       "1  892177421306343426          5302          29337\n",
       "2  891815181378084864          3481          22060\n",
       "3  891689557279858688          7227          36947\n",
       "4  891327558926688256          7763          35277"
      ]
     },
     "execution_count": 20,
     "metadata": {},
     "output_type": "execute_result"
    }
   ],
   "source": [
    "json_api_data.head()"
   ]
  },
  {
   "cell_type": "code",
   "execution_count": 21,
   "id": "60a5ec9b-b14d-4e32-bef3-ba7becd230cf",
   "metadata": {},
   "outputs": [
    {
     "name": "stdout",
     "output_type": "stream",
     "text": [
      "<class 'pandas.core.frame.DataFrame'>\n",
      "RangeIndex: 2356 entries, 0 to 2355\n",
      "Data columns (total 3 columns):\n",
      " #   Column          Non-Null Count  Dtype \n",
      "---  ------          --------------  ----- \n",
      " 0   tweet_id        2356 non-null   object\n",
      " 1   retweet_count   2356 non-null   object\n",
      " 2   favorite_count  2256 non-null   object\n",
      "dtypes: object(3)\n",
      "memory usage: 55.3+ KB\n"
     ]
    }
   ],
   "source": [
    "json_api_data.info()"
   ]
  },
  {
   "cell_type": "code",
   "execution_count": 22,
   "id": "d1c7fba7-dfe1-429a-aff0-ad6bae2d3746",
   "metadata": {},
   "outputs": [
    {
     "data": {
      "text/plain": [
       "0"
      ]
     },
     "execution_count": 22,
     "metadata": {},
     "output_type": "execute_result"
    }
   ],
   "source": [
    "json_api_data.duplicated().sum()"
   ]
  },
  {
   "cell_type": "code",
   "execution_count": 23,
   "id": "acb33e4f-4f88-4011-9d43-145c22373a03",
   "metadata": {},
   "outputs": [
    {
     "data": {
      "text/html": [
       "<div>\n",
       "<style scoped>\n",
       "    .dataframe tbody tr th:only-of-type {\n",
       "        vertical-align: middle;\n",
       "    }\n",
       "\n",
       "    .dataframe tbody tr th {\n",
       "        vertical-align: top;\n",
       "    }\n",
       "\n",
       "    .dataframe thead th {\n",
       "        text-align: right;\n",
       "    }\n",
       "</style>\n",
       "<table border=\"1\" class=\"dataframe\">\n",
       "  <thead>\n",
       "    <tr style=\"text-align: right;\">\n",
       "      <th></th>\n",
       "      <th>tweet_id</th>\n",
       "      <th>retweet_count</th>\n",
       "      <th>favorite_count</th>\n",
       "    </tr>\n",
       "  </thead>\n",
       "  <tbody>\n",
       "    <tr>\n",
       "      <th>count</th>\n",
       "      <td>2356</td>\n",
       "      <td>2356</td>\n",
       "      <td>2256</td>\n",
       "    </tr>\n",
       "    <tr>\n",
       "      <th>unique</th>\n",
       "      <td>2356</td>\n",
       "      <td>1646</td>\n",
       "      <td>1919</td>\n",
       "    </tr>\n",
       "    <tr>\n",
       "      <th>top</th>\n",
       "      <td>892420643555336193</td>\n",
       "      <td>429 Too Many Requests\\n88 - Rate limit exceeded</td>\n",
       "      <td>0</td>\n",
       "    </tr>\n",
       "    <tr>\n",
       "      <th>freq</th>\n",
       "      <td>1</td>\n",
       "      <td>61</td>\n",
       "      <td>160</td>\n",
       "    </tr>\n",
       "  </tbody>\n",
       "</table>\n",
       "</div>"
      ],
      "text/plain": [
       "                  tweet_id                                    retweet_count  \\\n",
       "count                 2356                                             2356   \n",
       "unique                2356                                             1646   \n",
       "top     892420643555336193  429 Too Many Requests\\n88 - Rate limit exceeded   \n",
       "freq                     1                                               61   \n",
       "\n",
       "       favorite_count  \n",
       "count            2256  \n",
       "unique           1919  \n",
       "top                 0  \n",
       "freq              160  "
      ]
     },
     "execution_count": 23,
     "metadata": {},
     "output_type": "execute_result"
    }
   ],
   "source": [
    "json_api_data.describe(include='all')"
   ]
  },
  {
   "cell_type": "markdown",
   "id": "eb5e0123-870d-4074-97ed-90a3f1e2e0ee",
   "metadata": {
    "tags": []
   },
   "source": [
    "### **Quality issues**\n",
    "- `json_api_data`\n",
    "    - tweet_id should be integer64 not object\n",
    "    - retweet_count datatype is object instead of integer\n",
    "    - favorite_count datatype is float64 instead of integer\n",
    "    - favorite count contains null values\n",
    "    - retweet_count contains characters"
   ]
  },
  {
   "cell_type": "markdown",
   "id": "13a7aa2c-3f71-497f-96a0-6e48dbab8f00",
   "metadata": {},
   "source": [
    "### **Tidiness issues**\n",
    "- `json_api_data`  should be merged with `we_rate_dog data `\n",
    "-  Only one dataset table is sufficient for this project. The `image_predciton_data` would be merged with the `we_rate_dog_data` after we have selected only rows for which the image is a dog\n",
    "- `doggo, floofer, pupper, puppo` cols on the `image_prediction_data` represents the breed of each dog. Only one of the columns contains the breed while others would be `None`. There's need to coalesce these column into just one column which will represent the dog's breed. In cases where the breed is not known, `None` would be used to denote that."
   ]
  },
  {
   "cell_type": "markdown",
   "id": "5d96d01d-9419-48d8-968b-a96905c9e194",
   "metadata": {},
   "source": [
    "## Cleaning Data"
   ]
  },
  {
   "cell_type": "markdown",
   "id": "671a4665-131c-4d68-9efe-da99860ad3a3",
   "metadata": {},
   "source": [
    "In this section, the outlined issues would be resolved. After this section, we expect the three datasets to be transformed into high-quality data, reliable for analysis. Here is a summary of the issues to be cleaned in sequencial order:\n",
    "\n",
    "### Tidiness issues:\n",
    "- `json_api_data`  should be merged with `we_rate_dog data `\n",
    "-  Only one dataset table is sufficient for this project. The `image_predciton_data` would be merged with the `we_rate_dog_data` after we have selected only rows for which the image is a dog\n",
    "### Quality issues:\n",
    "- #### we_rate_dogs_data:\n",
    "    - Only original tweets/ratings are needed for this project (no retweets)\n",
    "    - NaN values in columns: \n",
    "        - `retweeted_status_id`\n",
    "        - `retweeted_status_user_id,`\n",
    "        - `retweetwed_status_time_stamp` etc\n",
    "    - timestamp column should be in pandas datetime format\n",
    "    - columns not needed for this analysis include:\n",
    "        - `source`\n",
    "        - `timestamp` \n",
    "        - `expanded_urls`\n",
    "        - `in_reply_status_id`\n",
    "        - `retweeted_status_id`, \n",
    "        - `retweetwed_status_time_stamp`\n",
    "    - maximum `rating_numerator` and `rating_denominator` is 1776 and 170 respectively. This is very far from 75% of other ratings\n",
    "-  #### image_prediction_data:\n",
    "    - Though there are 5000+ tweets in the dataset, not all are dog. We need only tweets that contains dog images\n",
    "    - The columns in this dataset are only needed for selecting tweets that contain dog images, but not neccessary for the analysis. Hence this columns would be removed once the data is merged. Also interested in the algorithms most confident prediction: only columns that contains the most confident prediction would be used\n",
    "- #### json_api_data\n",
    "    - retweet_count contains characters\n",
    "    - tweet_id should be integer64 not object\n",
    "    - retweet_count datatype is object instead of integer\n",
    "    - favorite_count datatype should be integer instead of float\n",
    "    - favorite count contains null values"
   ]
  },
  {
   "cell_type": "code",
   "execution_count": 24,
   "id": "89f0bd1a-9afd-4b4c-8d84-ded17b1be89f",
   "metadata": {},
   "outputs": [],
   "source": [
    "#make copies of the original datasets\n",
    "we_rate_dogs_data_copy = we_rate_dogs_data.copy()\n",
    "img_prediction_copy = img_prediction.copy()\n",
    "json_api_data_copy = json_api_data.copy()\n"
   ]
  },
  {
   "cell_type": "markdown",
   "id": "0c8d4ecc-641e-4531-af20-ef64d822e58b",
   "metadata": {},
   "source": [
    "\n",
    "Both dataframe: `we_rate_dog_data` and `json_api_data` are to be merged on their tweet_id column. To do this, the tweet_id column on both datasets must be of same datatype. In this case, the `json_api_data` tweet_id column would be converted to integer64 to match with that of `we_rate_dog_data`"
   ]
  },
  {
   "cell_type": "code",
   "execution_count": 25,
   "id": "37b4849f-8e05-446f-8bc4-d52e0cd22319",
   "metadata": {},
   "outputs": [
    {
     "data": {
      "text/plain": [
       "dtype('int64')"
      ]
     },
     "execution_count": 25,
     "metadata": {},
     "output_type": "execute_result"
    }
   ],
   "source": [
    "\n",
    "#change json_api_data tweet_id column datatype to int64\n",
    "json_api_data_copy.tweet_id = json_api_data_copy.tweet_id.astype('int64')\n",
    "#test\n",
    "json_api_data_copy.tweet_id.dtype"
   ]
  },
  {
   "cell_type": "code",
   "execution_count": 26,
   "id": "9235ae60-dd0f-4790-82d2-4fe39667b8a3",
   "metadata": {},
   "outputs": [
    {
     "data": {
      "text/plain": [
       "(2356, 19)"
      ]
     },
     "execution_count": 26,
     "metadata": {},
     "output_type": "execute_result"
    }
   ],
   "source": [
    "#merge we_rate_dog_data with the json_api_data, both on twitter_id column\n",
    "dog_rates_data = we_rate_dogs_data_copy.merge(json_api_data_copy, \n",
    "                                             left_on='tweet_id', right_on='tweet_id')\n",
    "#test\n",
    "dog_rates_data.shape"
   ]
  },
  {
   "cell_type": "code",
   "execution_count": 27,
   "id": "9d72798d-2294-4e7b-824d-255a3af167d6",
   "metadata": {},
   "outputs": [
    {
     "data": {
      "text/html": [
       "<div>\n",
       "<style scoped>\n",
       "    .dataframe tbody tr th:only-of-type {\n",
       "        vertical-align: middle;\n",
       "    }\n",
       "\n",
       "    .dataframe tbody tr th {\n",
       "        vertical-align: top;\n",
       "    }\n",
       "\n",
       "    .dataframe thead th {\n",
       "        text-align: right;\n",
       "    }\n",
       "</style>\n",
       "<table border=\"1\" class=\"dataframe\">\n",
       "  <thead>\n",
       "    <tr style=\"text-align: right;\">\n",
       "      <th></th>\n",
       "      <th>tweet_id</th>\n",
       "      <th>in_reply_to_status_id</th>\n",
       "      <th>in_reply_to_user_id</th>\n",
       "      <th>timestamp</th>\n",
       "      <th>source</th>\n",
       "      <th>text</th>\n",
       "      <th>retweeted_status_id</th>\n",
       "      <th>retweeted_status_user_id</th>\n",
       "      <th>retweeted_status_timestamp</th>\n",
       "      <th>expanded_urls</th>\n",
       "      <th>rating_numerator</th>\n",
       "      <th>rating_denominator</th>\n",
       "      <th>name</th>\n",
       "      <th>doggo</th>\n",
       "      <th>floofer</th>\n",
       "      <th>pupper</th>\n",
       "      <th>puppo</th>\n",
       "      <th>retweet_count</th>\n",
       "      <th>favorite_count</th>\n",
       "    </tr>\n",
       "  </thead>\n",
       "  <tbody>\n",
       "    <tr>\n",
       "      <th>0</th>\n",
       "      <td>892420643555336193</td>\n",
       "      <td>NaN</td>\n",
       "      <td>NaN</td>\n",
       "      <td>2017-08-01 16:23:56 +0000</td>\n",
       "      <td>&lt;a href=\"http://twitter.com/download/iphone\" r...</td>\n",
       "      <td>This is Phineas. He's a mystical boy. Only eve...</td>\n",
       "      <td>NaN</td>\n",
       "      <td>NaN</td>\n",
       "      <td>NaN</td>\n",
       "      <td>https://twitter.com/dog_rates/status/892420643...</td>\n",
       "      <td>13</td>\n",
       "      <td>10</td>\n",
       "      <td>Phineas</td>\n",
       "      <td>None</td>\n",
       "      <td>None</td>\n",
       "      <td>None</td>\n",
       "      <td>None</td>\n",
       "      <td>7009</td>\n",
       "      <td>33820</td>\n",
       "    </tr>\n",
       "    <tr>\n",
       "      <th>1</th>\n",
       "      <td>892177421306343426</td>\n",
       "      <td>NaN</td>\n",
       "      <td>NaN</td>\n",
       "      <td>2017-08-01 00:17:27 +0000</td>\n",
       "      <td>&lt;a href=\"http://twitter.com/download/iphone\" r...</td>\n",
       "      <td>This is Tilly. She's just checking pup on you....</td>\n",
       "      <td>NaN</td>\n",
       "      <td>NaN</td>\n",
       "      <td>NaN</td>\n",
       "      <td>https://twitter.com/dog_rates/status/892177421...</td>\n",
       "      <td>13</td>\n",
       "      <td>10</td>\n",
       "      <td>Tilly</td>\n",
       "      <td>None</td>\n",
       "      <td>None</td>\n",
       "      <td>None</td>\n",
       "      <td>None</td>\n",
       "      <td>5302</td>\n",
       "      <td>29337</td>\n",
       "    </tr>\n",
       "    <tr>\n",
       "      <th>2</th>\n",
       "      <td>891815181378084864</td>\n",
       "      <td>NaN</td>\n",
       "      <td>NaN</td>\n",
       "      <td>2017-07-31 00:18:03 +0000</td>\n",
       "      <td>&lt;a href=\"http://twitter.com/download/iphone\" r...</td>\n",
       "      <td>This is Archie. He is a rare Norwegian Pouncin...</td>\n",
       "      <td>NaN</td>\n",
       "      <td>NaN</td>\n",
       "      <td>NaN</td>\n",
       "      <td>https://twitter.com/dog_rates/status/891815181...</td>\n",
       "      <td>12</td>\n",
       "      <td>10</td>\n",
       "      <td>Archie</td>\n",
       "      <td>None</td>\n",
       "      <td>None</td>\n",
       "      <td>None</td>\n",
       "      <td>None</td>\n",
       "      <td>3481</td>\n",
       "      <td>22060</td>\n",
       "    </tr>\n",
       "  </tbody>\n",
       "</table>\n",
       "</div>"
      ],
      "text/plain": [
       "             tweet_id  in_reply_to_status_id  in_reply_to_user_id  \\\n",
       "0  892420643555336193                    NaN                  NaN   \n",
       "1  892177421306343426                    NaN                  NaN   \n",
       "2  891815181378084864                    NaN                  NaN   \n",
       "\n",
       "                   timestamp  \\\n",
       "0  2017-08-01 16:23:56 +0000   \n",
       "1  2017-08-01 00:17:27 +0000   \n",
       "2  2017-07-31 00:18:03 +0000   \n",
       "\n",
       "                                              source  \\\n",
       "0  <a href=\"http://twitter.com/download/iphone\" r...   \n",
       "1  <a href=\"http://twitter.com/download/iphone\" r...   \n",
       "2  <a href=\"http://twitter.com/download/iphone\" r...   \n",
       "\n",
       "                                                text  retweeted_status_id  \\\n",
       "0  This is Phineas. He's a mystical boy. Only eve...                  NaN   \n",
       "1  This is Tilly. She's just checking pup on you....                  NaN   \n",
       "2  This is Archie. He is a rare Norwegian Pouncin...                  NaN   \n",
       "\n",
       "   retweeted_status_user_id retweeted_status_timestamp  \\\n",
       "0                       NaN                        NaN   \n",
       "1                       NaN                        NaN   \n",
       "2                       NaN                        NaN   \n",
       "\n",
       "                                       expanded_urls  rating_numerator  \\\n",
       "0  https://twitter.com/dog_rates/status/892420643...                13   \n",
       "1  https://twitter.com/dog_rates/status/892177421...                13   \n",
       "2  https://twitter.com/dog_rates/status/891815181...                12   \n",
       "\n",
       "   rating_denominator     name doggo floofer pupper puppo retweet_count  \\\n",
       "0                  10  Phineas  None    None   None  None          7009   \n",
       "1                  10    Tilly  None    None   None  None          5302   \n",
       "2                  10   Archie  None    None   None  None          3481   \n",
       "\n",
       "  favorite_count  \n",
       "0          33820  \n",
       "1          29337  \n",
       "2          22060  "
      ]
     },
     "execution_count": 27,
     "metadata": {},
     "output_type": "execute_result"
    }
   ],
   "source": [
    "dog_rates_data.head(3)"
   ]
  },
  {
   "cell_type": "markdown",
   "id": "f7e50e59-32ad-49fc-a95b-c56f0c154323",
   "metadata": {},
   "source": [
    "Only one dataset table is sufficient for this project. The `image_prediciton_data` would be merged with  `dog_rates_data` after we have selected only rows for which the image is a dog\n",
    "\n",
    "The following are meanings of  columns `image_prediction_data`:\n",
    "- p1 is the algorithm's #1 prediction for the image in the tweet → golden retriever\n",
    "- p1_conf is how confident the algorithm is in its #1 prediction → 95%\n",
    "- p1_dog is whether or not the #1 prediction is a breed of dog → TRUE\n",
    "- p2 is the algorithm's second most likely prediction → Labrador retriever\n",
    "- p2_conf is how confident the algorithm is in its #2 prediction → 1%\n",
    "- p2_dog is whether or not the #2 prediction is a breed of dog → TRUE\n",
    "- etc.\n",
    "\n",
    "For this project, I intend to analyze tweets that has dog images alone. Therefore if the `p1_dog`, `p2_dog`, `p3_dog` columns are all False, it means there's likely no dog image in the tweet. On the other hand, if at least one of the `pN_dog` columns is True, then we can say that at least, one of the images on the tweet contains dog since a tweet can contain more than one images"
   ]
  },
  {
   "cell_type": "code",
   "execution_count": 28,
   "id": "676a6148-d2f5-44ca-b709-c44a211154a1",
   "metadata": {},
   "outputs": [
    {
     "data": {
      "text/html": [
       "<div>\n",
       "<style scoped>\n",
       "    .dataframe tbody tr th:only-of-type {\n",
       "        vertical-align: middle;\n",
       "    }\n",
       "\n",
       "    .dataframe tbody tr th {\n",
       "        vertical-align: top;\n",
       "    }\n",
       "\n",
       "    .dataframe thead th {\n",
       "        text-align: right;\n",
       "    }\n",
       "</style>\n",
       "<table border=\"1\" class=\"dataframe\">\n",
       "  <thead>\n",
       "    <tr style=\"text-align: right;\">\n",
       "      <th></th>\n",
       "      <th>tweet_id</th>\n",
       "      <th>jpg_url</th>\n",
       "      <th>img_num</th>\n",
       "      <th>p1</th>\n",
       "      <th>p1_conf</th>\n",
       "      <th>p1_dog</th>\n",
       "      <th>p2</th>\n",
       "      <th>p2_conf</th>\n",
       "      <th>p2_dog</th>\n",
       "      <th>p3</th>\n",
       "      <th>p3_conf</th>\n",
       "      <th>p3_dog</th>\n",
       "    </tr>\n",
       "  </thead>\n",
       "  <tbody>\n",
       "  </tbody>\n",
       "</table>\n",
       "</div>"
      ],
      "text/plain": [
       "Empty DataFrame\n",
       "Columns: [tweet_id, jpg_url, img_num, p1, p1_conf, p1_dog, p2, p2_conf, p2_dog, p3, p3_conf, p3_dog]\n",
       "Index: []"
      ]
     },
     "execution_count": 28,
     "metadata": {},
     "output_type": "execute_result"
    }
   ],
   "source": [
    "#select only rows for which atleast one the image is a dog\n",
    "conditions = ( (img_prediction_copy.p1_dog == False) & (img_prediction_copy.p2_dog == False) & (img_prediction_copy.p3_dog == False) )\n",
    "\n",
    "img_prediction_copy = img_prediction_copy.drop(img_prediction_copy[conditions].index)\n",
    "\n",
    "#test\n",
    "img_prediction_copy[conditions]"
   ]
  },
  {
   "cell_type": "code",
   "execution_count": 29,
   "id": "9b9fab22-07a3-4804-9022-1b45b67a745a",
   "metadata": {},
   "outputs": [
    {
     "data": {
      "text/html": [
       "<div>\n",
       "<style scoped>\n",
       "    .dataframe tbody tr th:only-of-type {\n",
       "        vertical-align: middle;\n",
       "    }\n",
       "\n",
       "    .dataframe tbody tr th {\n",
       "        vertical-align: top;\n",
       "    }\n",
       "\n",
       "    .dataframe thead th {\n",
       "        text-align: right;\n",
       "    }\n",
       "</style>\n",
       "<table border=\"1\" class=\"dataframe\">\n",
       "  <thead>\n",
       "    <tr style=\"text-align: right;\">\n",
       "      <th></th>\n",
       "      <th>tweet_id</th>\n",
       "      <th>jpg_url</th>\n",
       "      <th>img_num</th>\n",
       "      <th>p1</th>\n",
       "      <th>p1_conf</th>\n",
       "      <th>p1_dog</th>\n",
       "      <th>p2</th>\n",
       "      <th>p2_conf</th>\n",
       "      <th>p2_dog</th>\n",
       "      <th>p3</th>\n",
       "      <th>p3_conf</th>\n",
       "      <th>p3_dog</th>\n",
       "    </tr>\n",
       "  </thead>\n",
       "  <tbody>\n",
       "    <tr>\n",
       "      <th>0</th>\n",
       "      <td>666020888022790149</td>\n",
       "      <td>https://pbs.twimg.com/media/CT4udn0WwAA0aMy.jpg</td>\n",
       "      <td>1</td>\n",
       "      <td>Welsh_springer_spaniel</td>\n",
       "      <td>0.465074</td>\n",
       "      <td>True</td>\n",
       "      <td>collie</td>\n",
       "      <td>0.156665</td>\n",
       "      <td>True</td>\n",
       "      <td>Shetland_sheepdog</td>\n",
       "      <td>0.061428</td>\n",
       "      <td>True</td>\n",
       "    </tr>\n",
       "    <tr>\n",
       "      <th>1</th>\n",
       "      <td>666029285002620928</td>\n",
       "      <td>https://pbs.twimg.com/media/CT42GRgUYAA5iDo.jpg</td>\n",
       "      <td>1</td>\n",
       "      <td>redbone</td>\n",
       "      <td>0.506826</td>\n",
       "      <td>True</td>\n",
       "      <td>miniature_pinscher</td>\n",
       "      <td>0.074192</td>\n",
       "      <td>True</td>\n",
       "      <td>Rhodesian_ridgeback</td>\n",
       "      <td>0.072010</td>\n",
       "      <td>True</td>\n",
       "    </tr>\n",
       "    <tr>\n",
       "      <th>2</th>\n",
       "      <td>666033412701032449</td>\n",
       "      <td>https://pbs.twimg.com/media/CT4521TWwAEvMyu.jpg</td>\n",
       "      <td>1</td>\n",
       "      <td>German_shepherd</td>\n",
       "      <td>0.596461</td>\n",
       "      <td>True</td>\n",
       "      <td>malinois</td>\n",
       "      <td>0.138584</td>\n",
       "      <td>True</td>\n",
       "      <td>bloodhound</td>\n",
       "      <td>0.116197</td>\n",
       "      <td>True</td>\n",
       "    </tr>\n",
       "    <tr>\n",
       "      <th>3</th>\n",
       "      <td>666044226329800704</td>\n",
       "      <td>https://pbs.twimg.com/media/CT5Dr8HUEAA-lEu.jpg</td>\n",
       "      <td>1</td>\n",
       "      <td>Rhodesian_ridgeback</td>\n",
       "      <td>0.408143</td>\n",
       "      <td>True</td>\n",
       "      <td>redbone</td>\n",
       "      <td>0.360687</td>\n",
       "      <td>True</td>\n",
       "      <td>miniature_pinscher</td>\n",
       "      <td>0.222752</td>\n",
       "      <td>True</td>\n",
       "    </tr>\n",
       "    <tr>\n",
       "      <th>4</th>\n",
       "      <td>666049248165822465</td>\n",
       "      <td>https://pbs.twimg.com/media/CT5IQmsXIAAKY4A.jpg</td>\n",
       "      <td>1</td>\n",
       "      <td>miniature_pinscher</td>\n",
       "      <td>0.560311</td>\n",
       "      <td>True</td>\n",
       "      <td>Rottweiler</td>\n",
       "      <td>0.243682</td>\n",
       "      <td>True</td>\n",
       "      <td>Doberman</td>\n",
       "      <td>0.154629</td>\n",
       "      <td>True</td>\n",
       "    </tr>\n",
       "  </tbody>\n",
       "</table>\n",
       "</div>"
      ],
      "text/plain": [
       "             tweet_id                                          jpg_url  \\\n",
       "0  666020888022790149  https://pbs.twimg.com/media/CT4udn0WwAA0aMy.jpg   \n",
       "1  666029285002620928  https://pbs.twimg.com/media/CT42GRgUYAA5iDo.jpg   \n",
       "2  666033412701032449  https://pbs.twimg.com/media/CT4521TWwAEvMyu.jpg   \n",
       "3  666044226329800704  https://pbs.twimg.com/media/CT5Dr8HUEAA-lEu.jpg   \n",
       "4  666049248165822465  https://pbs.twimg.com/media/CT5IQmsXIAAKY4A.jpg   \n",
       "\n",
       "   img_num                      p1   p1_conf  p1_dog                  p2  \\\n",
       "0        1  Welsh_springer_spaniel  0.465074    True              collie   \n",
       "1        1                 redbone  0.506826    True  miniature_pinscher   \n",
       "2        1         German_shepherd  0.596461    True            malinois   \n",
       "3        1     Rhodesian_ridgeback  0.408143    True             redbone   \n",
       "4        1      miniature_pinscher  0.560311    True          Rottweiler   \n",
       "\n",
       "    p2_conf  p2_dog                   p3   p3_conf  p3_dog  \n",
       "0  0.156665    True    Shetland_sheepdog  0.061428    True  \n",
       "1  0.074192    True  Rhodesian_ridgeback  0.072010    True  \n",
       "2  0.138584    True           bloodhound  0.116197    True  \n",
       "3  0.360687    True   miniature_pinscher  0.222752    True  \n",
       "4  0.243682    True             Doberman  0.154629    True  "
      ]
     },
     "execution_count": 29,
     "metadata": {},
     "output_type": "execute_result"
    }
   ],
   "source": [
    "img_prediction_copy.head()"
   ]
  },
  {
   "cell_type": "code",
   "execution_count": 30,
   "id": "39607724-1a33-4b37-bccb-02deec25548c",
   "metadata": {},
   "outputs": [
    {
     "data": {
      "text/plain": [
       "True"
      ]
     },
     "execution_count": 30,
     "metadata": {},
     "output_type": "execute_result"
    }
   ],
   "source": [
    "#merge the `dog_rate_data` with `img_prediction_data`\n",
    "dog_rates_data = dog_rates_data.merge(img_prediction_copy, left_on='tweet_id', right_on='tweet_id', how='right')\n",
    "#test\n",
    "dog_rates_data.shape[0] == img_prediction_copy.shape[0]"
   ]
  },
  {
   "cell_type": "code",
   "execution_count": 31,
   "id": "63869bdb-2489-4854-bf50-ad340e20a914",
   "metadata": {},
   "outputs": [
    {
     "data": {
      "text/plain": [
       "Index(['tweet_id', 'in_reply_to_status_id', 'in_reply_to_user_id', 'timestamp',\n",
       "       'source', 'text', 'retweeted_status_id', 'retweeted_status_user_id',\n",
       "       'retweeted_status_timestamp', 'expanded_urls', 'rating_numerator',\n",
       "       'rating_denominator', 'name', 'doggo', 'floofer', 'pupper', 'puppo',\n",
       "       'retweet_count', 'favorite_count', 'jpg_url', 'img_num', 'p1',\n",
       "       'p1_conf', 'p1_dog', 'p2', 'p2_conf', 'p2_dog', 'p3', 'p3_conf',\n",
       "       'p3_dog'],\n",
       "      dtype='object')"
      ]
     },
     "execution_count": 31,
     "metadata": {},
     "output_type": "execute_result"
    }
   ],
   "source": [
    "dog_rates_data.columns"
   ]
  },
  {
   "cell_type": "code",
   "execution_count": 32,
   "id": "f607cd91-2503-4697-805d-a10e475eaedf",
   "metadata": {},
   "outputs": [
    {
     "data": {
      "text/html": [
       "<div>\n",
       "<style scoped>\n",
       "    .dataframe tbody tr th:only-of-type {\n",
       "        vertical-align: middle;\n",
       "    }\n",
       "\n",
       "    .dataframe tbody tr th {\n",
       "        vertical-align: top;\n",
       "    }\n",
       "\n",
       "    .dataframe thead th {\n",
       "        text-align: right;\n",
       "    }\n",
       "</style>\n",
       "<table border=\"1\" class=\"dataframe\">\n",
       "  <thead>\n",
       "    <tr style=\"text-align: right;\">\n",
       "      <th></th>\n",
       "      <th>tweet_id</th>\n",
       "      <th>in_reply_to_status_id</th>\n",
       "      <th>in_reply_to_user_id</th>\n",
       "      <th>timestamp</th>\n",
       "      <th>source</th>\n",
       "      <th>text</th>\n",
       "      <th>retweeted_status_id</th>\n",
       "      <th>retweeted_status_user_id</th>\n",
       "      <th>retweeted_status_timestamp</th>\n",
       "      <th>expanded_urls</th>\n",
       "      <th>...</th>\n",
       "      <th>img_num</th>\n",
       "      <th>p1</th>\n",
       "      <th>p1_conf</th>\n",
       "      <th>p1_dog</th>\n",
       "      <th>p2</th>\n",
       "      <th>p2_conf</th>\n",
       "      <th>p2_dog</th>\n",
       "      <th>p3</th>\n",
       "      <th>p3_conf</th>\n",
       "      <th>p3_dog</th>\n",
       "    </tr>\n",
       "  </thead>\n",
       "  <tbody>\n",
       "    <tr>\n",
       "      <th>0</th>\n",
       "      <td>666020888022790149</td>\n",
       "      <td>NaN</td>\n",
       "      <td>NaN</td>\n",
       "      <td>2015-11-15 22:32:08 +0000</td>\n",
       "      <td>&lt;a href=\"http://twitter.com/download/iphone\" r...</td>\n",
       "      <td>Here we have a Japanese Irish Setter. Lost eye...</td>\n",
       "      <td>NaN</td>\n",
       "      <td>NaN</td>\n",
       "      <td>NaN</td>\n",
       "      <td>https://twitter.com/dog_rates/status/666020888...</td>\n",
       "      <td>...</td>\n",
       "      <td>1</td>\n",
       "      <td>Welsh_springer_spaniel</td>\n",
       "      <td>0.465074</td>\n",
       "      <td>True</td>\n",
       "      <td>collie</td>\n",
       "      <td>0.156665</td>\n",
       "      <td>True</td>\n",
       "      <td>Shetland_sheepdog</td>\n",
       "      <td>0.061428</td>\n",
       "      <td>True</td>\n",
       "    </tr>\n",
       "    <tr>\n",
       "      <th>1</th>\n",
       "      <td>666029285002620928</td>\n",
       "      <td>NaN</td>\n",
       "      <td>NaN</td>\n",
       "      <td>2015-11-15 23:05:30 +0000</td>\n",
       "      <td>&lt;a href=\"http://twitter.com/download/iphone\" r...</td>\n",
       "      <td>This is a western brown Mitsubishi terrier. Up...</td>\n",
       "      <td>NaN</td>\n",
       "      <td>NaN</td>\n",
       "      <td>NaN</td>\n",
       "      <td>https://twitter.com/dog_rates/status/666029285...</td>\n",
       "      <td>...</td>\n",
       "      <td>1</td>\n",
       "      <td>redbone</td>\n",
       "      <td>0.506826</td>\n",
       "      <td>True</td>\n",
       "      <td>miniature_pinscher</td>\n",
       "      <td>0.074192</td>\n",
       "      <td>True</td>\n",
       "      <td>Rhodesian_ridgeback</td>\n",
       "      <td>0.072010</td>\n",
       "      <td>True</td>\n",
       "    </tr>\n",
       "    <tr>\n",
       "      <th>2</th>\n",
       "      <td>666033412701032449</td>\n",
       "      <td>NaN</td>\n",
       "      <td>NaN</td>\n",
       "      <td>2015-11-15 23:21:54 +0000</td>\n",
       "      <td>&lt;a href=\"http://twitter.com/download/iphone\" r...</td>\n",
       "      <td>Here is a very happy pup. Big fan of well-main...</td>\n",
       "      <td>NaN</td>\n",
       "      <td>NaN</td>\n",
       "      <td>NaN</td>\n",
       "      <td>https://twitter.com/dog_rates/status/666033412...</td>\n",
       "      <td>...</td>\n",
       "      <td>1</td>\n",
       "      <td>German_shepherd</td>\n",
       "      <td>0.596461</td>\n",
       "      <td>True</td>\n",
       "      <td>malinois</td>\n",
       "      <td>0.138584</td>\n",
       "      <td>True</td>\n",
       "      <td>bloodhound</td>\n",
       "      <td>0.116197</td>\n",
       "      <td>True</td>\n",
       "    </tr>\n",
       "  </tbody>\n",
       "</table>\n",
       "<p>3 rows × 30 columns</p>\n",
       "</div>"
      ],
      "text/plain": [
       "             tweet_id  in_reply_to_status_id  in_reply_to_user_id  \\\n",
       "0  666020888022790149                    NaN                  NaN   \n",
       "1  666029285002620928                    NaN                  NaN   \n",
       "2  666033412701032449                    NaN                  NaN   \n",
       "\n",
       "                   timestamp  \\\n",
       "0  2015-11-15 22:32:08 +0000   \n",
       "1  2015-11-15 23:05:30 +0000   \n",
       "2  2015-11-15 23:21:54 +0000   \n",
       "\n",
       "                                              source  \\\n",
       "0  <a href=\"http://twitter.com/download/iphone\" r...   \n",
       "1  <a href=\"http://twitter.com/download/iphone\" r...   \n",
       "2  <a href=\"http://twitter.com/download/iphone\" r...   \n",
       "\n",
       "                                                text  retweeted_status_id  \\\n",
       "0  Here we have a Japanese Irish Setter. Lost eye...                  NaN   \n",
       "1  This is a western brown Mitsubishi terrier. Up...                  NaN   \n",
       "2  Here is a very happy pup. Big fan of well-main...                  NaN   \n",
       "\n",
       "   retweeted_status_user_id retweeted_status_timestamp  \\\n",
       "0                       NaN                        NaN   \n",
       "1                       NaN                        NaN   \n",
       "2                       NaN                        NaN   \n",
       "\n",
       "                                       expanded_urls  ...  img_num  \\\n",
       "0  https://twitter.com/dog_rates/status/666020888...  ...        1   \n",
       "1  https://twitter.com/dog_rates/status/666029285...  ...        1   \n",
       "2  https://twitter.com/dog_rates/status/666033412...  ...        1   \n",
       "\n",
       "                       p1   p1_conf p1_dog                  p2   p2_conf  \\\n",
       "0  Welsh_springer_spaniel  0.465074   True              collie  0.156665   \n",
       "1                 redbone  0.506826   True  miniature_pinscher  0.074192   \n",
       "2         German_shepherd  0.596461   True            malinois  0.138584   \n",
       "\n",
       "  p2_dog                   p3   p3_conf p3_dog  \n",
       "0   True    Shetland_sheepdog  0.061428   True  \n",
       "1   True  Rhodesian_ridgeback  0.072010   True  \n",
       "2   True           bloodhound  0.116197   True  \n",
       "\n",
       "[3 rows x 30 columns]"
      ]
     },
     "execution_count": 32,
     "metadata": {},
     "output_type": "execute_result"
    }
   ],
   "source": [
    "dog_rates_data.head(3)"
   ]
  },
  {
   "cell_type": "markdown",
   "id": "352596e4-3550-4c0f-bbe3-19ef5f100485",
   "metadata": {},
   "source": [
    "- The `p1\tp1_conf\tp1_dog\tp2\tp2_conf\tp2_dog\t` columns in this dataset are only needed for selecting tweets that contain dog images, but not neccessary for the analysis. Hence this columns would be removed once the data is merged. Also this analysis would be based on the algorithms most confident prediction: only columns that contains the most confident prediction would be used to extract the dog's breed"
   ]
  },
  {
   "cell_type": "code",
   "execution_count": 33,
   "id": "368aaf87-f77b-476d-ad33-813f838ee633",
   "metadata": {
    "scrolled": true,
    "tags": []
   },
   "outputs": [
    {
     "data": {
      "text/plain": [
       "1408           dalmatian\n",
       "1683    golden_retriever\n",
       "992              unknown\n",
       "1634             unknown\n",
       "1623    golden_retriever\n",
       "Name: dog_breed, dtype: object"
      ]
     },
     "execution_count": 33,
     "metadata": {},
     "output_type": "execute_result"
    }
   ],
   "source": [
    "#### create a new column to represent the dog breed of the algorithms most\n",
    "#### most confident prediction\n",
    "### the img_num column contains the algorithms most confident prediction, so\n",
    "## this column would be used to extract the dog's breed\n",
    "\n",
    "#create a function to be applied for each row\n",
    "def extract_dog_breed(row):\n",
    "    if (row.img_num == 1) & (row.p1_dog == True):\n",
    "        return row.p1\n",
    "    elif row.img_num == 2  & (row.p2_dog == True):\n",
    "        return row.p2\n",
    "    elif row.img_num == 3  & (row.p3_dog == True):\n",
    "        return row.p3\n",
    "    else: return 'unknown'\n",
    "\n",
    "#apply function to each row, extract the dog breed into a new column: dog_breed\n",
    "dog_rates_data['dog_breed'] = dog_rates_data.apply(lambda row: extract_dog_breed(row), axis=1)\n",
    "\n",
    "# drop redundant columns\n",
    "columns_drop = ['p1', 'p1_conf', 'p1_dog', 'p2', 'p2_conf', 'p2_dog', 'p3', 'p3_conf', 'p3_dog']\n",
    "dog_rates_data.drop(columns=columns_drop, inplace=True, errors='ignore')\n",
    "#test 1\n",
    "dog_rates_data.dog_breed.sample(5)"
   ]
  },
  {
   "cell_type": "code",
   "execution_count": 34,
   "id": "48067e0a-f662-4f22-a0c9-5542e933831d",
   "metadata": {},
   "outputs": [
    {
     "data": {
      "text/plain": [
       "False"
      ]
     },
     "execution_count": 34,
     "metadata": {},
     "output_type": "execute_result"
    }
   ],
   "source": [
    "#test 2\n",
    "any(column in dog_rates_data.columns for column in columns_drop)"
   ]
  },
  {
   "cell_type": "markdown",
   "id": "31fca8e9-3867-491f-8d2c-05bd0c5b439c",
   "metadata": {},
   "source": [
    "- Only original tweets/ratings are needed for this project (no retweets). The `retweeted_status_id` column is Nullable, meaning the value can have a null value when the tweet is not a retweet. Hence I intend to select only rows for which the `retweeted_status_id` are nulls"
   ]
  },
  {
   "cell_type": "code",
   "execution_count": 35,
   "id": "f4d11b6c-fa26-42e0-ac71-27168f40c5c8",
   "metadata": {},
   "outputs": [
    {
     "data": {
      "text/html": [
       "<div>\n",
       "<style scoped>\n",
       "    .dataframe tbody tr th:only-of-type {\n",
       "        vertical-align: middle;\n",
       "    }\n",
       "\n",
       "    .dataframe tbody tr th {\n",
       "        vertical-align: top;\n",
       "    }\n",
       "\n",
       "    .dataframe thead th {\n",
       "        text-align: right;\n",
       "    }\n",
       "</style>\n",
       "<table border=\"1\" class=\"dataframe\">\n",
       "  <thead>\n",
       "    <tr style=\"text-align: right;\">\n",
       "      <th></th>\n",
       "      <th>tweet_id</th>\n",
       "      <th>in_reply_to_status_id</th>\n",
       "      <th>in_reply_to_user_id</th>\n",
       "      <th>timestamp</th>\n",
       "      <th>source</th>\n",
       "      <th>text</th>\n",
       "      <th>retweeted_status_id</th>\n",
       "      <th>retweeted_status_user_id</th>\n",
       "      <th>retweeted_status_timestamp</th>\n",
       "      <th>expanded_urls</th>\n",
       "      <th>...</th>\n",
       "      <th>name</th>\n",
       "      <th>doggo</th>\n",
       "      <th>floofer</th>\n",
       "      <th>pupper</th>\n",
       "      <th>puppo</th>\n",
       "      <th>retweet_count</th>\n",
       "      <th>favorite_count</th>\n",
       "      <th>jpg_url</th>\n",
       "      <th>img_num</th>\n",
       "      <th>dog_breed</th>\n",
       "    </tr>\n",
       "  </thead>\n",
       "  <tbody>\n",
       "  </tbody>\n",
       "</table>\n",
       "<p>0 rows × 22 columns</p>\n",
       "</div>"
      ],
      "text/plain": [
       "Empty DataFrame\n",
       "Columns: [tweet_id, in_reply_to_status_id, in_reply_to_user_id, timestamp, source, text, retweeted_status_id, retweeted_status_user_id, retweeted_status_timestamp, expanded_urls, rating_numerator, rating_denominator, name, doggo, floofer, pupper, puppo, retweet_count, favorite_count, jpg_url, img_num, dog_breed]\n",
       "Index: []\n",
       "\n",
       "[0 rows x 22 columns]"
      ]
     },
     "execution_count": 35,
     "metadata": {},
     "output_type": "execute_result"
    }
   ],
   "source": [
    "###select only original tweets: no retweet\n",
    "\n",
    "#select retweets\n",
    "retweets = dog_rates_data[dog_rates_data.in_reply_to_status_id.notna()]\n",
    "#drop retweets\n",
    "dog_rates_data.drop(retweets.index, inplace=True)\n",
    "#test\n",
    "dog_rates_data[dog_rates_data.in_reply_to_status_id.notna()]"
   ]
  },
  {
   "cell_type": "markdown",
   "id": "3db3d358-6045-497a-92e8-dbfb9a867139",
   "metadata": {},
   "source": [
    "- There are NaN values in columns: \n",
    "    - `retweeted_status_user_id`\n",
    "    - `retweeted_status_id,`\n",
    "    - `retweetwed_status_time_stamp`\n",
    "\n",
    "This columns contains NaNs because the tweets are not retweets: they are original tweets, hence this columns would be removed"
   ]
  },
  {
   "cell_type": "code",
   "execution_count": 36,
   "id": "67117539-919b-4d06-8be4-f075ef5a9eb4",
   "metadata": {},
   "outputs": [
    {
     "data": {
      "text/plain": [
       "False"
      ]
     },
     "execution_count": 36,
     "metadata": {},
     "output_type": "execute_result"
    }
   ],
   "source": [
    "#remove columns: `retweeted_status_id,`, `retweeted_status_id`, `retweeted_status_time_stamp`\n",
    "columns_drop = ['retweeted_status_id', 'retweeted_status_id', 'retweeted_status_timestamp']\n",
    "dog_rates_data.drop(columns=columns_drop, inplace=True, errors='ignore')\n",
    "#test\n",
    "any(column in dog_rates_data.columns for column in columns_drop)"
   ]
  },
  {
   "cell_type": "markdown",
   "id": "17137e64-fd07-4bc5-a989-771008675d53",
   "metadata": {},
   "source": [
    " - timestamp column should be in pandas datetime format"
   ]
  },
  {
   "cell_type": "code",
   "execution_count": 37,
   "id": "13c071cb-3658-4e8e-b946-b0c98fe6c0d7",
   "metadata": {},
   "outputs": [
    {
     "data": {
      "text/plain": [
       "0   2015-11-15 22:32:08+00:00\n",
       "1   2015-11-15 23:05:30+00:00\n",
       "2   2015-11-15 23:21:54+00:00\n",
       "3   2015-11-16 00:04:52+00:00\n",
       "4   2015-11-16 00:24:50+00:00\n",
       "Name: timestamp, dtype: datetime64[ns, UTC]"
      ]
     },
     "execution_count": 37,
     "metadata": {},
     "output_type": "execute_result"
    }
   ],
   "source": [
    "#convert the timestamp column to a datetime object\n",
    "dog_rates_data.timestamp = pd.to_datetime(dog_rates_data.timestamp)\n",
    "#test\n",
    "dog_rates_data.timestamp.head()"
   ]
  },
  {
   "cell_type": "markdown",
   "id": "98a29857-efe0-42d4-9abf-8631c6187106",
   "metadata": {},
   "source": [
    "- The following variables not needed for this analysis:\n",
    "    - `source`\n",
    "    - `expanded_urls`\n",
    "    - `in_reply_status_id`\n",
    "    - `retweeted_status_id`,\n",
    "    - `in_reply_to_user_id`\n",
    "    - `retweetwed_status_time_stamp`\n",
    "    - `jpg_url`\n",
    "    - `img_num`"
   ]
  },
  {
   "cell_type": "code",
   "execution_count": 38,
   "id": "98feb4f4-3bbe-4f7e-b9f0-2802685ea8d5",
   "metadata": {},
   "outputs": [
    {
     "data": {
      "text/plain": [
       "False"
      ]
     },
     "execution_count": 38,
     "metadata": {},
     "output_type": "execute_result"
    }
   ],
   "source": [
    "#drop columns not required\n",
    "columns_drop = ['source', 'expanded_urls', 'in_reply_status_id', \n",
    "                'retweeted_status_id', 'in_reply_to_status_id', \n",
    "                'retweeted_status_timestamp', 'retweeted_status_user_id', 'in_reply_to_user_id', 'img_num', 'jpg_url']\n",
    "dog_rates_data.drop(columns=columns_drop, inplace=True, errors='ignore')\n",
    "#test\n",
    "any(column in dog_rates_data.columns for column in columns_drop)"
   ]
  },
  {
   "cell_type": "code",
   "execution_count": 39,
   "id": "8cb6ad14-367a-4f07-90a9-9b4508e08b01",
   "metadata": {},
   "outputs": [
    {
     "data": {
      "text/html": [
       "<div>\n",
       "<style scoped>\n",
       "    .dataframe tbody tr th:only-of-type {\n",
       "        vertical-align: middle;\n",
       "    }\n",
       "\n",
       "    .dataframe tbody tr th {\n",
       "        vertical-align: top;\n",
       "    }\n",
       "\n",
       "    .dataframe thead th {\n",
       "        text-align: right;\n",
       "    }\n",
       "</style>\n",
       "<table border=\"1\" class=\"dataframe\">\n",
       "  <thead>\n",
       "    <tr style=\"text-align: right;\">\n",
       "      <th></th>\n",
       "      <th>tweet_id</th>\n",
       "      <th>timestamp</th>\n",
       "      <th>text</th>\n",
       "      <th>rating_numerator</th>\n",
       "      <th>rating_denominator</th>\n",
       "      <th>name</th>\n",
       "      <th>doggo</th>\n",
       "      <th>floofer</th>\n",
       "      <th>pupper</th>\n",
       "      <th>puppo</th>\n",
       "      <th>retweet_count</th>\n",
       "      <th>favorite_count</th>\n",
       "      <th>dog_breed</th>\n",
       "    </tr>\n",
       "  </thead>\n",
       "  <tbody>\n",
       "    <tr>\n",
       "      <th>0</th>\n",
       "      <td>666020888022790149</td>\n",
       "      <td>2015-11-15 22:32:08+00:00</td>\n",
       "      <td>Here we have a Japanese Irish Setter. Lost eye...</td>\n",
       "      <td>8</td>\n",
       "      <td>10</td>\n",
       "      <td>None</td>\n",
       "      <td>None</td>\n",
       "      <td>None</td>\n",
       "      <td>None</td>\n",
       "      <td>None</td>\n",
       "      <td>423</td>\n",
       "      <td>2292</td>\n",
       "      <td>Welsh_springer_spaniel</td>\n",
       "    </tr>\n",
       "    <tr>\n",
       "      <th>1</th>\n",
       "      <td>666029285002620928</td>\n",
       "      <td>2015-11-15 23:05:30+00:00</td>\n",
       "      <td>This is a western brown Mitsubishi terrier. Up...</td>\n",
       "      <td>7</td>\n",
       "      <td>10</td>\n",
       "      <td>a</td>\n",
       "      <td>None</td>\n",
       "      <td>None</td>\n",
       "      <td>None</td>\n",
       "      <td>None</td>\n",
       "      <td>39</td>\n",
       "      <td>112</td>\n",
       "      <td>redbone</td>\n",
       "    </tr>\n",
       "    <tr>\n",
       "      <th>2</th>\n",
       "      <td>666033412701032449</td>\n",
       "      <td>2015-11-15 23:21:54+00:00</td>\n",
       "      <td>Here is a very happy pup. Big fan of well-main...</td>\n",
       "      <td>9</td>\n",
       "      <td>10</td>\n",
       "      <td>a</td>\n",
       "      <td>None</td>\n",
       "      <td>None</td>\n",
       "      <td>None</td>\n",
       "      <td>None</td>\n",
       "      <td>36</td>\n",
       "      <td>100</td>\n",
       "      <td>German_shepherd</td>\n",
       "    </tr>\n",
       "  </tbody>\n",
       "</table>\n",
       "</div>"
      ],
      "text/plain": [
       "             tweet_id                 timestamp  \\\n",
       "0  666020888022790149 2015-11-15 22:32:08+00:00   \n",
       "1  666029285002620928 2015-11-15 23:05:30+00:00   \n",
       "2  666033412701032449 2015-11-15 23:21:54+00:00   \n",
       "\n",
       "                                                text  rating_numerator  \\\n",
       "0  Here we have a Japanese Irish Setter. Lost eye...                 8   \n",
       "1  This is a western brown Mitsubishi terrier. Up...                 7   \n",
       "2  Here is a very happy pup. Big fan of well-main...                 9   \n",
       "\n",
       "   rating_denominator  name doggo floofer pupper puppo retweet_count  \\\n",
       "0                  10  None  None    None   None  None           423   \n",
       "1                  10     a  None    None   None  None            39   \n",
       "2                  10     a  None    None   None  None            36   \n",
       "\n",
       "  favorite_count               dog_breed  \n",
       "0           2292  Welsh_springer_spaniel  \n",
       "1            112                 redbone  \n",
       "2            100         German_shepherd  "
      ]
     },
     "execution_count": 39,
     "metadata": {},
     "output_type": "execute_result"
    }
   ],
   "source": [
    "dog_rates_data.head(3)"
   ]
  },
  {
   "cell_type": "markdown",
   "id": "13f2e78e-d1c3-409f-9b3c-90080d3f11f8",
   "metadata": {},
   "source": [
    "maximum `rating_numerator` and `rating_denominator` is 1776 and 170 respectively. This is very far from 75% of other ratings"
   ]
  },
  {
   "cell_type": "code",
   "execution_count": 40,
   "id": "2755227a-39b8-4502-841a-fb62dc8fac9d",
   "metadata": {},
   "outputs": [
    {
     "data": {
      "text/html": [
       "<div>\n",
       "<style scoped>\n",
       "    .dataframe tbody tr th:only-of-type {\n",
       "        vertical-align: middle;\n",
       "    }\n",
       "\n",
       "    .dataframe tbody tr th {\n",
       "        vertical-align: top;\n",
       "    }\n",
       "\n",
       "    .dataframe thead th {\n",
       "        text-align: right;\n",
       "    }\n",
       "</style>\n",
       "<table border=\"1\" class=\"dataframe\">\n",
       "  <thead>\n",
       "    <tr style=\"text-align: right;\">\n",
       "      <th></th>\n",
       "      <th>tweet_id</th>\n",
       "      <th>timestamp</th>\n",
       "      <th>text</th>\n",
       "      <th>rating_numerator</th>\n",
       "      <th>rating_denominator</th>\n",
       "      <th>name</th>\n",
       "      <th>doggo</th>\n",
       "      <th>floofer</th>\n",
       "      <th>pupper</th>\n",
       "      <th>puppo</th>\n",
       "      <th>retweet_count</th>\n",
       "      <th>favorite_count</th>\n",
       "      <th>dog_breed</th>\n",
       "    </tr>\n",
       "  </thead>\n",
       "  <tbody>\n",
       "    <tr>\n",
       "      <th>1097</th>\n",
       "      <td>758467244762497024</td>\n",
       "      <td>2016-07-28 01:00:57+00:00</td>\n",
       "      <td>Why does this never happen at my front door......</td>\n",
       "      <td>165</td>\n",
       "      <td>150</td>\n",
       "      <td>None</td>\n",
       "      <td>None</td>\n",
       "      <td>None</td>\n",
       "      <td>None</td>\n",
       "      <td>None</td>\n",
       "      <td>2030</td>\n",
       "      <td>4481</td>\n",
       "      <td>Labrador_retriever</td>\n",
       "    </tr>\n",
       "    <tr>\n",
       "      <th>540</th>\n",
       "      <td>684222868335505415</td>\n",
       "      <td>2016-01-05 04:00:18+00:00</td>\n",
       "      <td>Someone help the girl is being mugged. Several...</td>\n",
       "      <td>121</td>\n",
       "      <td>110</td>\n",
       "      <td>None</td>\n",
       "      <td>None</td>\n",
       "      <td>None</td>\n",
       "      <td>None</td>\n",
       "      <td>None</td>\n",
       "      <td>1241</td>\n",
       "      <td>3524</td>\n",
       "      <td>soft-coated_wheaten_terrier</td>\n",
       "    </tr>\n",
       "    <tr>\n",
       "      <th>382</th>\n",
       "      <td>675853064436391936</td>\n",
       "      <td>2015-12-13 01:41:41+00:00</td>\n",
       "      <td>Here we have an entire platoon of puppers. Tot...</td>\n",
       "      <td>88</td>\n",
       "      <td>80</td>\n",
       "      <td>None</td>\n",
       "      <td>None</td>\n",
       "      <td>None</td>\n",
       "      <td>None</td>\n",
       "      <td>None</td>\n",
       "      <td>1137</td>\n",
       "      <td>2427</td>\n",
       "      <td>Labrador_retriever</td>\n",
       "    </tr>\n",
       "  </tbody>\n",
       "</table>\n",
       "</div>"
      ],
      "text/plain": [
       "                tweet_id                 timestamp  \\\n",
       "1097  758467244762497024 2016-07-28 01:00:57+00:00   \n",
       "540   684222868335505415 2016-01-05 04:00:18+00:00   \n",
       "382   675853064436391936 2015-12-13 01:41:41+00:00   \n",
       "\n",
       "                                                   text  rating_numerator  \\\n",
       "1097  Why does this never happen at my front door......               165   \n",
       "540   Someone help the girl is being mugged. Several...               121   \n",
       "382   Here we have an entire platoon of puppers. Tot...                88   \n",
       "\n",
       "      rating_denominator  name doggo floofer pupper puppo retweet_count  \\\n",
       "1097                 150  None  None    None   None  None          2030   \n",
       "540                  110  None  None    None   None  None          1241   \n",
       "382                   80  None  None    None   None  None          1137   \n",
       "\n",
       "     favorite_count                    dog_breed  \n",
       "1097           4481           Labrador_retriever  \n",
       "540            3524  soft-coated_wheaten_terrier  \n",
       "382            2427           Labrador_retriever  "
      ]
     },
     "execution_count": 40,
     "metadata": {},
     "output_type": "execute_result"
    }
   ],
   "source": [
    "#check for outliers\n",
    "dog_rates_data[dog_rates_data.rating_numerator > 50].sample(3)"
   ]
  },
  {
   "cell_type": "markdown",
   "id": "f695f660-4aa9-4c4d-99e8-5b07bbe055b8",
   "metadata": {},
   "source": [
    "From the frame above, we that the rating is not consistent accross all tweets: some tweets have different rating numerator and denominator. This is not an error. However, it'll nice to convert this ratings into percent by dividing the numerator by the denominator and multiplying by 100"
   ]
  },
  {
   "cell_type": "markdown",
   "id": "c4186f1a-fbf4-4fd2-93ce-204a09f8c45a",
   "metadata": {},
   "source": [
    "$$\n",
    "rating = \\frac{numerator}{denominator}\\, x  100\n",
    "$$"
   ]
  },
  {
   "cell_type": "code",
   "execution_count": 41,
   "id": "78b4249b-7ce3-4365-a562-28f32efc8e36",
   "metadata": {},
   "outputs": [
    {
     "data": {
      "text/html": [
       "<div>\n",
       "<style scoped>\n",
       "    .dataframe tbody tr th:only-of-type {\n",
       "        vertical-align: middle;\n",
       "    }\n",
       "\n",
       "    .dataframe tbody tr th {\n",
       "        vertical-align: top;\n",
       "    }\n",
       "\n",
       "    .dataframe thead th {\n",
       "        text-align: right;\n",
       "    }\n",
       "</style>\n",
       "<table border=\"1\" class=\"dataframe\">\n",
       "  <thead>\n",
       "    <tr style=\"text-align: right;\">\n",
       "      <th></th>\n",
       "      <th>rating_numerator</th>\n",
       "      <th>rating_denominator</th>\n",
       "      <th>rating</th>\n",
       "    </tr>\n",
       "  </thead>\n",
       "  <tbody>\n",
       "    <tr>\n",
       "      <th>550</th>\n",
       "      <td>11</td>\n",
       "      <td>10</td>\n",
       "      <td>110.0</td>\n",
       "    </tr>\n",
       "    <tr>\n",
       "      <th>1002</th>\n",
       "      <td>9</td>\n",
       "      <td>10</td>\n",
       "      <td>90.0</td>\n",
       "    </tr>\n",
       "    <tr>\n",
       "      <th>1642</th>\n",
       "      <td>13</td>\n",
       "      <td>10</td>\n",
       "      <td>130.0</td>\n",
       "    </tr>\n",
       "    <tr>\n",
       "      <th>135</th>\n",
       "      <td>11</td>\n",
       "      <td>10</td>\n",
       "      <td>110.0</td>\n",
       "    </tr>\n",
       "    <tr>\n",
       "      <th>18</th>\n",
       "      <td>9</td>\n",
       "      <td>10</td>\n",
       "      <td>90.0</td>\n",
       "    </tr>\n",
       "  </tbody>\n",
       "</table>\n",
       "</div>"
      ],
      "text/plain": [
       "      rating_numerator  rating_denominator  rating\n",
       "550                 11                  10   110.0\n",
       "1002                 9                  10    90.0\n",
       "1642                13                  10   130.0\n",
       "135                 11                  10   110.0\n",
       "18                   9                  10    90.0"
      ]
     },
     "execution_count": 41,
     "metadata": {},
     "output_type": "execute_result"
    }
   ],
   "source": [
    "#create new column: rating, by dividing the num by the denom\n",
    "dog_rates_data['rating'] = (dog_rates_data.rating_numerator / dog_rates_data.rating_denominator) * 100\n",
    "#test\n",
    "dog_rates_data[['rating_numerator', 'rating_denominator', 'rating']].sample(5)"
   ]
  },
  {
   "cell_type": "markdown",
   "id": "3b999a38-3ce9-45e2-b7f0-6eb9f87bbc25",
   "metadata": {},
   "source": [
    "- retweet_count contains characters. This is a result of gathering the data through an API. Some of the tweet_id do not exist (maybe some of the tweets have been deleted ) anymore and the API couldn't get the tweet objects, hence the error value is used in place of this attribute. Such errors may also arise as a result of bad internet connection or API query limit"
   ]
  },
  {
   "cell_type": "code",
   "execution_count": 42,
   "id": "2de69291-d3ad-4d0b-bc73-09ed494711b0",
   "metadata": {},
   "outputs": [
    {
     "data": {
      "text/plain": [
       "array(['503 Service Unavailable\\n130 - Over capacity',\n",
       "       '429 Too Many Requests\\n88 - Rate limit exceeded',\n",
       "       '404 Not Found\\n144 - No status found with that ID.',\n",
       "       \"Failed to send request: ('Connection aborted.', ConnectionResetError(10054, 'An existing connection was forcibly closed by the remote host', None, 10054, None))\",\n",
       "       \"Failed to send request: HTTPSConnectionPool(host='api.twitter.com', port=443): Max retries exceeded with url: /1.1/statuses/show.json?id=723673163800948736&tweet_mode=extended (Caused by SSLError(SSLEOFError(8, 'EOF occurred in violation of protocol (_ssl.c:997)')))\",\n",
       "       \"Failed to send request: HTTPSConnectionPool(host='api.twitter.com', port=443): Max retries exceeded with url: /1.1/statuses/show.json?id=723688335806480385&tweet_mode=extended (Caused by SSLError(SSLEOFError(8, 'EOF occurred in violation of protocol (_ssl.c:997)')))\",\n",
       "       \"Failed to send request: HTTPSConnectionPool(host='api.twitter.com', port=443): Max retries exceeded with url: /1.1/statuses/show.json?id=723912936180330496&tweet_mode=extended (Caused by SSLError(SSLEOFError(8, 'EOF occurred in violation of protocol (_ssl.c:997)')))\",\n",
       "       \"Failed to send request: HTTPSConnectionPool(host='api.twitter.com', port=443): Read timed out. (read timeout=60)\"],\n",
       "      dtype=object)"
      ]
     },
     "execution_count": 42,
     "metadata": {},
     "output_type": "execute_result"
    }
   ],
   "source": [
    "#get all tweets that contains characters as retweet_count\n",
    "error_tweets = dog_rates_data[dog_rates_data.retweet_count.str.contains(r'\\D')]\n",
    "error_tweets.iloc[:, 6: ].retweet_count.unique()"
   ]
  },
  {
   "cell_type": "code",
   "execution_count": 43,
   "id": "4ea399c5-87ad-472c-a556-aad0c3530a82",
   "metadata": {},
   "outputs": [
    {
     "data": {
      "text/plain": [
       "False"
      ]
     },
     "execution_count": 43,
     "metadata": {},
     "output_type": "execute_result"
    }
   ],
   "source": [
    "#drop all rows that have retweet count as text\n",
    "dog_rates_data.drop(error_tweets.index, inplace=True, errors='ignore')\n",
    "#test\n",
    "(dog_rates_data.retweet_count.str.contains(r'\\D')).any()"
   ]
  },
  {
   "cell_type": "markdown",
   "id": "e77baf52-876b-4376-a9ba-2cee32f0f271",
   "metadata": {},
   "source": [
    "retweet_count datatype is object instead of integer"
   ]
  },
  {
   "cell_type": "code",
   "execution_count": 44,
   "id": "0db0fbea-5783-4a97-8a56-1f491f1fcc90",
   "metadata": {},
   "outputs": [
    {
     "data": {
      "text/plain": [
       "1602    8890\n",
       "1621    3029\n",
       "1490    1082\n",
       "1357    1134\n",
       "1092    7215\n",
       "Name: retweet_count, dtype: int64"
      ]
     },
     "execution_count": 44,
     "metadata": {},
     "output_type": "execute_result"
    }
   ],
   "source": [
    "#change the retweet_count dtype into int64\n",
    "dog_rates_data.retweet_count = dog_rates_data.retweet_count.astype('int64')\n",
    "#test\n",
    "dog_rates_data.retweet_count.sample(5)"
   ]
  },
  {
   "cell_type": "markdown",
   "id": "3a4bad05-7bd1-4564-8f38-71c2d6df7c1b",
   "metadata": {},
   "source": [
    "- favorite_count datatype should be integer instead of float"
   ]
  },
  {
   "cell_type": "code",
   "execution_count": 45,
   "id": "dbb75f1c-4cf6-4ed3-8cff-b06ddced93b2",
   "metadata": {},
   "outputs": [
    {
     "data": {
      "text/plain": [
       "dtype('int64')"
      ]
     },
     "execution_count": 45,
     "metadata": {},
     "output_type": "execute_result"
    }
   ],
   "source": [
    "#change favorite_count dtype into integer\n",
    "dog_rates_data.favorite_count = dog_rates_data.favorite_count.astype('int64')\n",
    "#test\n",
    "dog_rates_data.favorite_count.dtype"
   ]
  },
  {
   "cell_type": "markdown",
   "id": "f89d58df-1097-482d-82a2-6051f1e0687c",
   "metadata": {},
   "source": [
    "- favorite_count contains NaN values"
   ]
  },
  {
   "cell_type": "code",
   "execution_count": 46,
   "id": "1a23ec6f-2d30-428b-a3a1-deb97644ddec",
   "metadata": {},
   "outputs": [
    {
     "data": {
      "text/plain": [
       "0"
      ]
     },
     "execution_count": 46,
     "metadata": {},
     "output_type": "execute_result"
    }
   ],
   "source": [
    "#check\n",
    "dog_rates_data.favorite_count.isnull().sum()"
   ]
  },
  {
   "cell_type": "markdown",
   "id": "aa976630-c091-4e42-b73d-cf4dd09cdd97",
   "metadata": {},
   "source": [
    "- `doggo, floofer, pupper, puppo` cols on the `image_prediction_data` represents the breed of each dog. Only one of the columns contains the breed while others would be `None`. There's need to coalesce these column into just one column which will represent the dog's breed. In cases where the breed is not known, `None` would be used to denote that. These four columns would be removed"
   ]
  },
  {
   "cell_type": "code",
   "execution_count": 47,
   "id": "e5c54d24-20b2-4487-ba26-f396b41f9899",
   "metadata": {},
   "outputs": [
    {
     "data": {
      "text/html": [
       "<div>\n",
       "<style scoped>\n",
       "    .dataframe tbody tr th:only-of-type {\n",
       "        vertical-align: middle;\n",
       "    }\n",
       "\n",
       "    .dataframe tbody tr th {\n",
       "        vertical-align: top;\n",
       "    }\n",
       "\n",
       "    .dataframe thead th {\n",
       "        text-align: right;\n",
       "    }\n",
       "</style>\n",
       "<table border=\"1\" class=\"dataframe\">\n",
       "  <thead>\n",
       "    <tr style=\"text-align: right;\">\n",
       "      <th></th>\n",
       "      <th>name</th>\n",
       "      <th>doggo</th>\n",
       "      <th>floofer</th>\n",
       "      <th>pupper</th>\n",
       "      <th>puppo</th>\n",
       "      <th>retweet_count</th>\n",
       "      <th>favorite_count</th>\n",
       "      <th>dog_breed</th>\n",
       "      <th>rating</th>\n",
       "    </tr>\n",
       "  </thead>\n",
       "  <tbody>\n",
       "    <tr>\n",
       "      <th>1491</th>\n",
       "      <td>one</td>\n",
       "      <td>None</td>\n",
       "      <td>None</td>\n",
       "      <td>None</td>\n",
       "      <td>None</td>\n",
       "      <td>1242</td>\n",
       "      <td>8968</td>\n",
       "      <td>golden_retriever</td>\n",
       "      <td>140.0</td>\n",
       "    </tr>\n",
       "    <tr>\n",
       "      <th>208</th>\n",
       "      <td>Remington</td>\n",
       "      <td>None</td>\n",
       "      <td>None</td>\n",
       "      <td>None</td>\n",
       "      <td>None</td>\n",
       "      <td>162</td>\n",
       "      <td>677</td>\n",
       "      <td>Labrador_retriever</td>\n",
       "      <td>120.0</td>\n",
       "    </tr>\n",
       "    <tr>\n",
       "      <th>473</th>\n",
       "      <td>None</td>\n",
       "      <td>None</td>\n",
       "      <td>None</td>\n",
       "      <td>None</td>\n",
       "      <td>None</td>\n",
       "      <td>557</td>\n",
       "      <td>2255</td>\n",
       "      <td>EntleBucher</td>\n",
       "      <td>110.0</td>\n",
       "    </tr>\n",
       "    <tr>\n",
       "      <th>934</th>\n",
       "      <td>Solomon</td>\n",
       "      <td>None</td>\n",
       "      <td>None</td>\n",
       "      <td>None</td>\n",
       "      <td>None</td>\n",
       "      <td>904</td>\n",
       "      <td>3226</td>\n",
       "      <td>Pembroke</td>\n",
       "      <td>120.0</td>\n",
       "    </tr>\n",
       "    <tr>\n",
       "      <th>202</th>\n",
       "      <td>None</td>\n",
       "      <td>None</td>\n",
       "      <td>None</td>\n",
       "      <td>None</td>\n",
       "      <td>None</td>\n",
       "      <td>78</td>\n",
       "      <td>304</td>\n",
       "      <td>basenji</td>\n",
       "      <td>100.0</td>\n",
       "    </tr>\n",
       "  </tbody>\n",
       "</table>\n",
       "</div>"
      ],
      "text/plain": [
       "           name doggo floofer pupper puppo  retweet_count  favorite_count  \\\n",
       "1491        one  None    None   None  None           1242            8968   \n",
       "208   Remington  None    None   None  None            162             677   \n",
       "473        None  None    None   None  None            557            2255   \n",
       "934     Solomon  None    None   None  None            904            3226   \n",
       "202        None  None    None   None  None             78             304   \n",
       "\n",
       "               dog_breed  rating  \n",
       "1491    golden_retriever   140.0  \n",
       "208   Labrador_retriever   120.0  \n",
       "473          EntleBucher   110.0  \n",
       "934             Pembroke   120.0  \n",
       "202              basenji   100.0  "
      ]
     },
     "execution_count": 47,
     "metadata": {},
     "output_type": "execute_result"
    }
   ],
   "source": [
    "dog_rates_data.iloc[:, 5:].sample(5)"
   ]
  },
  {
   "cell_type": "code",
   "execution_count": 48,
   "id": "f1f097fc-3b9f-4ace-bcde-ab0cb147aa54",
   "metadata": {},
   "outputs": [
    {
     "data": {
      "text/plain": [
       "None       1404\n",
       "pupper      159\n",
       "doggo        66\n",
       "puppo        22\n",
       "floofer       7\n",
       "Name: dog_stage, dtype: int64"
      ]
     },
     "execution_count": 48,
     "metadata": {},
     "output_type": "execute_result"
    }
   ],
   "source": [
    "#create a new column from the dog breed columns: doggo, pupper, floofer, puppo\n",
    "#this col would represent the breed of the dog\n",
    "#for each row, we'd check for the column that contains the dog breed and return it as a new column\n",
    "\n",
    "#create a function to be applied for each row\n",
    "def coalesce(col1, col2, col3, col4):\n",
    "    '''This function takes four columns and extract the value from the column where the value is not None\n",
    "     If all columns contains None, then None would be returned'''\n",
    "    \n",
    "    #create list of columns\n",
    "    cols = [col1, col2, col3, col4]\n",
    "    #initialize the column value as None\n",
    "    for col in cols:\n",
    "        if col == 'None':\n",
    "            continue\n",
    "        else: \n",
    "            return col\n",
    "    return 'None'\n",
    "\n",
    "#apply the function on each row of the dataframe\n",
    "dog_rates_data['dog_stage'] = dog_rates_data.iloc[:, 6:10].apply(\n",
    "                                    lambda row: coalesce(row.doggo, row.floofer, row.pupper, row.puppo), axis=1)\n",
    "\n",
    "#test\n",
    "dog_rates_data.dog_stage.value_counts()"
   ]
  },
  {
   "cell_type": "code",
   "execution_count": 49,
   "id": "0c44cc2a-cea9-471f-9d8b-0e843cabca5f",
   "metadata": {},
   "outputs": [
    {
     "data": {
      "text/plain": [
       "False"
      ]
     },
     "execution_count": 49,
     "metadata": {},
     "output_type": "execute_result"
    }
   ],
   "source": [
    "#remove columns not needed\n",
    "dog_rates_data.drop(columns=['doggo', 'floofer', 'pupper', 'puppo'], inplace=True, errors='ignore')\n",
    "#test\n",
    "any(column in dog_rates_data.columns for column in ['doggo', 'floofer', 'pupper', 'puppo'])"
   ]
  },
  {
   "cell_type": "code",
   "execution_count": 50,
   "id": "7a344848-80db-4b36-81b7-30109449634e",
   "metadata": {
    "tags": []
   },
   "outputs": [
    {
     "data": {
      "text/html": [
       "<div>\n",
       "<style scoped>\n",
       "    .dataframe tbody tr th:only-of-type {\n",
       "        vertical-align: middle;\n",
       "    }\n",
       "\n",
       "    .dataframe tbody tr th {\n",
       "        vertical-align: top;\n",
       "    }\n",
       "\n",
       "    .dataframe thead th {\n",
       "        text-align: right;\n",
       "    }\n",
       "</style>\n",
       "<table border=\"1\" class=\"dataframe\">\n",
       "  <thead>\n",
       "    <tr style=\"text-align: right;\">\n",
       "      <th></th>\n",
       "      <th>tweet_id</th>\n",
       "      <th>timestamp</th>\n",
       "      <th>text</th>\n",
       "      <th>rating_numerator</th>\n",
       "      <th>rating_denominator</th>\n",
       "      <th>name</th>\n",
       "      <th>retweet_count</th>\n",
       "      <th>favorite_count</th>\n",
       "      <th>dog_breed</th>\n",
       "      <th>rating</th>\n",
       "      <th>dog_stage</th>\n",
       "    </tr>\n",
       "  </thead>\n",
       "  <tbody>\n",
       "    <tr>\n",
       "      <th>1293</th>\n",
       "      <td>793271401113350145</td>\n",
       "      <td>2016-11-01 02:00:14+00:00</td>\n",
       "      <td>Meet Dave. It's his favorite day of the year. ...</td>\n",
       "      <td>12</td>\n",
       "      <td>10</td>\n",
       "      <td>Dave</td>\n",
       "      <td>2249</td>\n",
       "      <td>8261</td>\n",
       "      <td>Siberian_husky</td>\n",
       "      <td>120.0</td>\n",
       "      <td>None</td>\n",
       "    </tr>\n",
       "    <tr>\n",
       "      <th>1094</th>\n",
       "      <td>758041019896193024</td>\n",
       "      <td>2016-07-26 20:47:17+00:00</td>\n",
       "      <td>Teagan reads entire books in store so they're ...</td>\n",
       "      <td>9</td>\n",
       "      <td>10</td>\n",
       "      <td>None</td>\n",
       "      <td>339</td>\n",
       "      <td>2535</td>\n",
       "      <td>Bernese_mountain_dog</td>\n",
       "      <td>90.0</td>\n",
       "      <td>None</td>\n",
       "    </tr>\n",
       "    <tr>\n",
       "      <th>393</th>\n",
       "      <td>676237365392908289</td>\n",
       "      <td>2015-12-14 03:08:46+00:00</td>\n",
       "      <td>Say hello to Winston. He has no respect for th...</td>\n",
       "      <td>8</td>\n",
       "      <td>10</td>\n",
       "      <td>Winston</td>\n",
       "      <td>251</td>\n",
       "      <td>1092</td>\n",
       "      <td>French_bulldog</td>\n",
       "      <td>80.0</td>\n",
       "      <td>None</td>\n",
       "    </tr>\n",
       "  </tbody>\n",
       "</table>\n",
       "</div>"
      ],
      "text/plain": [
       "                tweet_id                 timestamp  \\\n",
       "1293  793271401113350145 2016-11-01 02:00:14+00:00   \n",
       "1094  758041019896193024 2016-07-26 20:47:17+00:00   \n",
       "393   676237365392908289 2015-12-14 03:08:46+00:00   \n",
       "\n",
       "                                                   text  rating_numerator  \\\n",
       "1293  Meet Dave. It's his favorite day of the year. ...                12   \n",
       "1094  Teagan reads entire books in store so they're ...                 9   \n",
       "393   Say hello to Winston. He has no respect for th...                 8   \n",
       "\n",
       "      rating_denominator     name  retweet_count  favorite_count  \\\n",
       "1293                  10     Dave           2249            8261   \n",
       "1094                  10     None            339            2535   \n",
       "393                   10  Winston            251            1092   \n",
       "\n",
       "                 dog_breed  rating dog_stage  \n",
       "1293        Siberian_husky   120.0      None  \n",
       "1094  Bernese_mountain_dog    90.0      None  \n",
       "393         French_bulldog    80.0      None  "
      ]
     },
     "execution_count": 50,
     "metadata": {},
     "output_type": "execute_result"
    }
   ],
   "source": [
    "dog_rates_data.sample(3)"
   ]
  },
  {
   "cell_type": "markdown",
   "id": "b9bb7a23-d0b1-4665-8666-dd7ee07287ec",
   "metadata": {},
   "source": [
    "- Though there are 5000+ tweets in the dataset, not all are dog. We need only tweets for which we are confident enough that it contains do contain dog images and the `dog_breed` is known. Hence all rows for which the dog_breed is not known would be dropped"
   ]
  },
  {
   "cell_type": "code",
   "execution_count": 51,
   "id": "82eaac65-79ea-434f-b868-43b50ccc91b9",
   "metadata": {},
   "outputs": [
    {
     "data": {
      "text/plain": [
       "False"
      ]
     },
     "execution_count": 51,
     "metadata": {},
     "output_type": "execute_result"
    }
   ],
   "source": [
    "unknown_breeds = dog_rates_data[dog_rates_data.dog_breed == 'unknown']\n",
    "dog_rates_data.drop(unknown_breeds.index, inplace= True)\n",
    "#test\n",
    "(dog_rates_data.dog_breed == 'unknown').any()"
   ]
  },
  {
   "cell_type": "code",
   "execution_count": 52,
   "id": "7fa175ea-c736-4b71-8cab-0bb157f0b9cc",
   "metadata": {},
   "outputs": [
    {
     "data": {
      "text/html": [
       "<div>\n",
       "<style scoped>\n",
       "    .dataframe tbody tr th:only-of-type {\n",
       "        vertical-align: middle;\n",
       "    }\n",
       "\n",
       "    .dataframe tbody tr th {\n",
       "        vertical-align: top;\n",
       "    }\n",
       "\n",
       "    .dataframe thead th {\n",
       "        text-align: right;\n",
       "    }\n",
       "</style>\n",
       "<table border=\"1\" class=\"dataframe\">\n",
       "  <thead>\n",
       "    <tr style=\"text-align: right;\">\n",
       "      <th></th>\n",
       "      <th>tweet_id</th>\n",
       "      <th>timestamp</th>\n",
       "      <th>text</th>\n",
       "      <th>rating_numerator</th>\n",
       "      <th>rating_denominator</th>\n",
       "      <th>name</th>\n",
       "      <th>retweet_count</th>\n",
       "      <th>favorite_count</th>\n",
       "      <th>dog_breed</th>\n",
       "      <th>rating</th>\n",
       "      <th>dog_stage</th>\n",
       "    </tr>\n",
       "  </thead>\n",
       "  <tbody>\n",
       "    <tr>\n",
       "      <th>562</th>\n",
       "      <td>685906723014619143</td>\n",
       "      <td>2016-01-09 19:31:20+00:00</td>\n",
       "      <td>This is Olive. He's stuck in a sleeve. 9/10 da...</td>\n",
       "      <td>9</td>\n",
       "      <td>10</td>\n",
       "      <td>Olive</td>\n",
       "      <td>2598</td>\n",
       "      <td>6911</td>\n",
       "      <td>Yorkshire_terrier</td>\n",
       "      <td>90.0</td>\n",
       "      <td>None</td>\n",
       "    </tr>\n",
       "    <tr>\n",
       "      <th>1483</th>\n",
       "      <td>827653905312006145</td>\n",
       "      <td>2017-02-03 23:04:02+00:00</td>\n",
       "      <td>This is Boots. She doesn't know what to do wit...</td>\n",
       "      <td>12</td>\n",
       "      <td>10</td>\n",
       "      <td>Boots</td>\n",
       "      <td>2798</td>\n",
       "      <td>14607</td>\n",
       "      <td>collie</td>\n",
       "      <td>120.0</td>\n",
       "      <td>None</td>\n",
       "    </tr>\n",
       "    <tr>\n",
       "      <th>620</th>\n",
       "      <td>690597161306841088</td>\n",
       "      <td>2016-01-22 18:09:28+00:00</td>\n",
       "      <td>This is Lolo. She's America af. Behind in scie...</td>\n",
       "      <td>11</td>\n",
       "      <td>10</td>\n",
       "      <td>Lolo</td>\n",
       "      <td>549</td>\n",
       "      <td>1789</td>\n",
       "      <td>Lhasa</td>\n",
       "      <td>110.0</td>\n",
       "      <td>None</td>\n",
       "    </tr>\n",
       "    <tr>\n",
       "      <th>982</th>\n",
       "      <td>741303864243200000</td>\n",
       "      <td>2016-06-10 16:19:48+00:00</td>\n",
       "      <td>This is Theodore. He just saw an adult wearing...</td>\n",
       "      <td>12</td>\n",
       "      <td>10</td>\n",
       "      <td>Theodore</td>\n",
       "      <td>2927</td>\n",
       "      <td>8142</td>\n",
       "      <td>Chihuahua</td>\n",
       "      <td>120.0</td>\n",
       "      <td>None</td>\n",
       "    </tr>\n",
       "    <tr>\n",
       "      <th>111</th>\n",
       "      <td>668567822092664832</td>\n",
       "      <td>2015-11-22 23:12:44+00:00</td>\n",
       "      <td>This is Marvin. He can tie a bow tie better th...</td>\n",
       "      <td>11</td>\n",
       "      <td>10</td>\n",
       "      <td>Marvin</td>\n",
       "      <td>46</td>\n",
       "      <td>206</td>\n",
       "      <td>Shih-Tzu</td>\n",
       "      <td>110.0</td>\n",
       "      <td>None</td>\n",
       "    </tr>\n",
       "  </tbody>\n",
       "</table>\n",
       "</div>"
      ],
      "text/plain": [
       "                tweet_id                 timestamp  \\\n",
       "562   685906723014619143 2016-01-09 19:31:20+00:00   \n",
       "1483  827653905312006145 2017-02-03 23:04:02+00:00   \n",
       "620   690597161306841088 2016-01-22 18:09:28+00:00   \n",
       "982   741303864243200000 2016-06-10 16:19:48+00:00   \n",
       "111   668567822092664832 2015-11-22 23:12:44+00:00   \n",
       "\n",
       "                                                   text  rating_numerator  \\\n",
       "562   This is Olive. He's stuck in a sleeve. 9/10 da...                 9   \n",
       "1483  This is Boots. She doesn't know what to do wit...                12   \n",
       "620   This is Lolo. She's America af. Behind in scie...                11   \n",
       "982   This is Theodore. He just saw an adult wearing...                12   \n",
       "111   This is Marvin. He can tie a bow tie better th...                11   \n",
       "\n",
       "      rating_denominator      name  retweet_count  favorite_count  \\\n",
       "562                   10     Olive           2598            6911   \n",
       "1483                  10     Boots           2798           14607   \n",
       "620                   10      Lolo            549            1789   \n",
       "982                   10  Theodore           2927            8142   \n",
       "111                   10    Marvin             46             206   \n",
       "\n",
       "              dog_breed  rating dog_stage  \n",
       "562   Yorkshire_terrier    90.0      None  \n",
       "1483             collie   120.0      None  \n",
       "620               Lhasa   110.0      None  \n",
       "982           Chihuahua   120.0      None  \n",
       "111            Shih-Tzu   110.0      None  "
      ]
     },
     "execution_count": 52,
     "metadata": {},
     "output_type": "execute_result"
    }
   ],
   "source": [
    "dog_rates_data.sample(5)"
   ]
  },
  {
   "cell_type": "markdown",
   "id": "9be2cbfd-fed2-4026-8308-6a288de8083a",
   "metadata": {
    "tags": []
   },
   "source": [
    "## Storing Data"
   ]
  },
  {
   "cell_type": "markdown",
   "id": "17cf7cef-1d23-49ae-91fd-d7f58fd34009",
   "metadata": {},
   "source": [
    "In this section, the cleaned dataset would be stored the in a CSV file  named twitter_archive_master.csv."
   ]
  },
  {
   "cell_type": "code",
   "execution_count": 53,
   "id": "b5114c64-4bcf-4324-9c5f-1390685b1e1d",
   "metadata": {},
   "outputs": [],
   "source": [
    "#store data\n",
    "dog_rates_data.to_csv('./data/twitter_archive_master.csv', index=False)"
   ]
  },
  {
   "cell_type": "markdown",
   "id": "5049ba9c-f2d8-4df0-b4a1-0ec664febc47",
   "metadata": {},
   "source": [
    "## Analysis and Visualization"
   ]
  },
  {
   "cell_type": "markdown",
   "id": "2eb8c1a4-489e-49fc-aba9-b9f7b5fd2143",
   "metadata": {},
   "source": [
    "In this section, I'll ask questions which would be answered by exploring the data and deriving insights"
   ]
  },
  {
   "cell_type": "markdown",
   "id": "3568842d-929b-46f5-a05f-02bfca180ca4",
   "metadata": {},
   "source": [
    "### Questions:\n",
    "- What are the top 10 dog breeds that got most of the tweets during this period ?\n",
    "- Among the top most tweeted dogs, Which breed had higher ratings ?\n",
    "- Dogs with highest number of retweet and likes ?\n",
    "- Is there a reasonable correlation between number of retweets and number of likes"
   ]
  },
  {
   "cell_type": "markdown",
   "id": "9e992331-9a40-4526-9b36-89e2eec1da4b",
   "metadata": {},
   "source": [
    "- What are the top 10 dog breeds that got most of the tweets during this period ?"
   ]
  },
  {
   "cell_type": "code",
   "execution_count": 54,
   "id": "06004410-eea5-4e68-845e-7005c07cb338",
   "metadata": {
    "scrolled": false,
    "tags": []
   },
   "outputs": [
    {
     "data": {
      "image/png": "[encoded data removed]",
      "text/plain": [
       "<Figure size 1152x288 with 1 Axes>"
      ]
     },
     "metadata": {
      "needs_background": "light"
     },
     "output_type": "display_data"
    }
   ],
   "source": [
    "plot_script.create_relative_frequency(data=dog_rates_data, \n",
    "                                      column='dog_breed', \n",
    "                                      n_subset=15, \n",
    "                                      ytick_divider=1, \n",
    "                                      ytick_suffix='',\n",
    "                                      n_ylocatorParams=7)\n",
    "\n",
    "plt.xlabel('No. of tweets', fontsize=13)\n",
    "plt.ylabel('Dog Breed', fontsize=13);\n",
    "plt.title('Top 15 dog breeds that appeard in most tweets', fontsize=13);"
   ]
  },
  {
   "cell_type": "markdown",
   "id": "07d4aa43-f93e-4924-abe6-3a61153b2bc4",
   "metadata": {},
   "source": [
    "From the chart above, We can seen that `golden retriever` were tweeted more than other breeds with about 120 tweets. Other dog breeds that made it to the top include `Labrador retriever, Pembroke, Chihuahua, pug....`"
   ]
  },
  {
   "cell_type": "markdown",
   "id": "ab6035b1-2bcc-47e3-85cb-abcbd7820a3a",
   "metadata": {},
   "source": [
    "- Among the top most tweeted dogs, Which breed had higher ratings ?"
   ]
  },
  {
   "cell_type": "code",
   "execution_count": 55,
   "id": "dc2f4e43-2463-427c-b728-2f835359efeb",
   "metadata": {},
   "outputs": [
    {
     "data": {
      "text/html": [
       "<div>\n",
       "<style scoped>\n",
       "    .dataframe tbody tr th:only-of-type {\n",
       "        vertical-align: middle;\n",
       "    }\n",
       "\n",
       "    .dataframe tbody tr th {\n",
       "        vertical-align: top;\n",
       "    }\n",
       "\n",
       "    .dataframe thead th {\n",
       "        text-align: right;\n",
       "    }\n",
       "</style>\n",
       "<table border=\"1\" class=\"dataframe\">\n",
       "  <thead>\n",
       "    <tr style=\"text-align: right;\">\n",
       "      <th></th>\n",
       "      <th>tweet_id</th>\n",
       "      <th>timestamp</th>\n",
       "      <th>text</th>\n",
       "      <th>rating_numerator</th>\n",
       "      <th>rating_denominator</th>\n",
       "      <th>name</th>\n",
       "      <th>retweet_count</th>\n",
       "      <th>favorite_count</th>\n",
       "      <th>dog_breed</th>\n",
       "      <th>rating</th>\n",
       "      <th>dog_stage</th>\n",
       "    </tr>\n",
       "  </thead>\n",
       "  <tbody>\n",
       "    <tr>\n",
       "      <th>6</th>\n",
       "      <td>666055525042405380</td>\n",
       "      <td>2015-11-16 00:49:46+00:00</td>\n",
       "      <td>Here is a Siberian heavily armored polar bear ...</td>\n",
       "      <td>10</td>\n",
       "      <td>10</td>\n",
       "      <td>a</td>\n",
       "      <td>196</td>\n",
       "      <td>367</td>\n",
       "      <td>chow</td>\n",
       "      <td>100.0</td>\n",
       "      <td>None</td>\n",
       "    </tr>\n",
       "    <tr>\n",
       "      <th>7</th>\n",
       "      <td>666057090499244032</td>\n",
       "      <td>2015-11-16 00:55:59+00:00</td>\n",
       "      <td>My oh my. This is a rare blond Canadian terrie...</td>\n",
       "      <td>9</td>\n",
       "      <td>10</td>\n",
       "      <td>a</td>\n",
       "      <td>112</td>\n",
       "      <td>247</td>\n",
       "      <td>golden_retriever</td>\n",
       "      <td>90.0</td>\n",
       "      <td>None</td>\n",
       "    </tr>\n",
       "    <tr>\n",
       "      <th>9</th>\n",
       "      <td>666063827256086533</td>\n",
       "      <td>2015-11-16 01:22:45+00:00</td>\n",
       "      <td>This is the happiest dog you will ever see. Ve...</td>\n",
       "      <td>10</td>\n",
       "      <td>10</td>\n",
       "      <td>the</td>\n",
       "      <td>180</td>\n",
       "      <td>400</td>\n",
       "      <td>golden_retriever</td>\n",
       "      <td>100.0</td>\n",
       "      <td>None</td>\n",
       "    </tr>\n",
       "    <tr>\n",
       "      <th>12</th>\n",
       "      <td>666082916733198337</td>\n",
       "      <td>2015-11-16 02:38:37+00:00</td>\n",
       "      <td>Here we have a well-established sunblockerspan...</td>\n",
       "      <td>6</td>\n",
       "      <td>10</td>\n",
       "      <td>None</td>\n",
       "      <td>37</td>\n",
       "      <td>93</td>\n",
       "      <td>pug</td>\n",
       "      <td>60.0</td>\n",
       "      <td>None</td>\n",
       "    </tr>\n",
       "    <tr>\n",
       "      <th>19</th>\n",
       "      <td>666345417576210432</td>\n",
       "      <td>2015-11-16 20:01:42+00:00</td>\n",
       "      <td>Look at this jokester thinking seat belt laws ...</td>\n",
       "      <td>10</td>\n",
       "      <td>10</td>\n",
       "      <td>None</td>\n",
       "      <td>124</td>\n",
       "      <td>244</td>\n",
       "      <td>golden_retriever</td>\n",
       "      <td>100.0</td>\n",
       "      <td>None</td>\n",
       "    </tr>\n",
       "  </tbody>\n",
       "</table>\n",
       "</div>"
      ],
      "text/plain": [
       "              tweet_id                 timestamp  \\\n",
       "6   666055525042405380 2015-11-16 00:49:46+00:00   \n",
       "7   666057090499244032 2015-11-16 00:55:59+00:00   \n",
       "9   666063827256086533 2015-11-16 01:22:45+00:00   \n",
       "12  666082916733198337 2015-11-16 02:38:37+00:00   \n",
       "19  666345417576210432 2015-11-16 20:01:42+00:00   \n",
       "\n",
       "                                                 text  rating_numerator  \\\n",
       "6   Here is a Siberian heavily armored polar bear ...                10   \n",
       "7   My oh my. This is a rare blond Canadian terrie...                 9   \n",
       "9   This is the happiest dog you will ever see. Ve...                10   \n",
       "12  Here we have a well-established sunblockerspan...                 6   \n",
       "19  Look at this jokester thinking seat belt laws ...                10   \n",
       "\n",
       "    rating_denominator  name  retweet_count  favorite_count         dog_breed  \\\n",
       "6                   10     a            196             367              chow   \n",
       "7                   10     a            112             247  golden_retriever   \n",
       "9                   10   the            180             400  golden_retriever   \n",
       "12                  10  None             37              93               pug   \n",
       "19                  10  None            124             244  golden_retriever   \n",
       "\n",
       "    rating dog_stage  \n",
       "6    100.0      None  \n",
       "7     90.0      None  \n",
       "9    100.0      None  \n",
       "12    60.0      None  \n",
       "19   100.0      None  "
      ]
     },
     "execution_count": 55,
     "metadata": {},
     "output_type": "execute_result"
    }
   ],
   "source": [
    "top_15_breeds = dog_rates_data.dog_breed.value_counts()[:15]\n",
    "id = top_15_breeds.index\n",
    "#select only top 15 most appeared breeds\n",
    "most_tweeted = dog_rates_data[dog_rates_data.dog_breed.isin(id)]\n",
    "most_tweeted.head()"
   ]
  },
  {
   "cell_type": "code",
   "execution_count": 56,
   "id": "82ede19f-b830-47c5-8685-a507848df217",
   "metadata": {},
   "outputs": [
    {
     "data": {
      "image/png": "[encoded data removed]",
      "text/plain": [
       "<Figure size 720x720 with 1 Axes>"
      ]
     },
     "metadata": {
      "needs_background": "light"
     },
     "output_type": "display_data"
    }
   ],
   "source": [
    "#group by dog_breed and plot\n",
    "most_tweeted.groupby('dog_breed')['rating'].mean().sort_values() \\\n",
    "            .plot(kind='barh', figsize=(10, 10))\n",
    "\n",
    "#label plot\n",
    "plt.xlabel('Rating', fontsize=13)\n",
    "plt.ylabel('Dog Breed', fontsize=13);\n",
    "plt.title('Rating for top 15 dog breeds that appeard in most tweets', fontsize=13);"
   ]
  },
  {
   "cell_type": "markdown",
   "id": "7d02f3c9-c9b1-4b7b-8d43-be72415cf4da",
   "metadata": {},
   "source": [
    "On average, the `Pomernarian` breed had the highest ratings with more than `120%` rating. Also the `golden retriever` which came first among the top tweeted breeds came second. Other top rated breeds includes `Samoyed, chow, cocker spanial, pembroke....`"
   ]
  },
  {
   "cell_type": "markdown",
   "id": "535d2146-6dda-47ab-a687-ec60172e033d",
   "metadata": {},
   "source": [
    "- Is there a reasonable correlation between number of retweets and number of likes`"
   ]
  },
  {
   "cell_type": "code",
   "execution_count": 57,
   "id": "bbf668de-dc14-466f-ba67-5851622a258f",
   "metadata": {},
   "outputs": [
    {
     "data": {
      "image/png": "[encoded data removed]",
      "text/plain": [
       "<Figure size 936x576 with 1 Axes>"
      ]
     },
     "metadata": {
      "needs_background": "light"
     },
     "output_type": "display_data"
    }
   ],
   "source": [
    "dog_rates_data[['retweet_count', 'favorite_count']] \\\n",
    "            .plot(kind='scatter',\n",
    "                  x = 'retweet_count',\n",
    "                  y='favorite_count',\n",
    "                  figsize=(13, 8), logx=True, logy=True);\n",
    "\n",
    "#label plot\n",
    "plt.xlabel('Retweet count', fontsize=13)\n",
    "plt.ylabel('Favorite count', fontsize=13);\n",
    "plt.title('Retweet count vs favorite count', fontsize=13);"
   ]
  },
  {
   "cell_type": "markdown",
   "id": "3daaf427-ca78-427c-b829-7d7ce4d6f7b8",
   "metadata": {},
   "source": [
    "From the scatter plot above, it's seen that `favorite count` and `retweet count` are highely posetively correlated. This means that tweets that had more retweets also had more likes; and this is a good sanity check"
   ]
  }
 ],
 "metadata": {
  "kernelspec": {
   "display_name": "Python 3 (ipykernel)",
   "language": "python",
   "name": "python3"
  },
  "language_info": {
   "codemirror_mode": {
    "name": "ipython",
    "version": 3
   },
   "file_extension": ".py",
   "mimetype": "text/x-python",
   "name": "python",
   "nbconvert_exporter": "python",
   "pygments_lexer": "ipython3",
   "version": "3.10.4"
  }
 },
 "nbformat": 4,
 "nbformat_minor": 5
}
